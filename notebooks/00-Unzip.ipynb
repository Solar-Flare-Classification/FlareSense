{
 "cells": [
  {
   "cell_type": "code",
   "execution_count": 1,
   "id": "5f82fe8b",
   "metadata": {
    "execution": {
     "iopub.execute_input": "2023-11-23T23:34:25.515633Z",
     "iopub.status.busy": "2023-11-23T23:34:25.515424Z",
     "iopub.status.idle": "2023-11-23T23:34:25.520920Z",
     "shell.execute_reply": "2023-11-23T23:34:25.520595Z"
    },
    "papermill": {
     "duration": 0.009455,
     "end_time": "2023-11-23T23:34:25.521636",
     "exception": false,
     "start_time": "2023-11-23T23:34:25.512181",
     "status": "completed"
    },
    "tags": []
   },
   "outputs": [
    {
     "name": "stdout",
     "output_type": "stream",
     "text": [
      "Changed working directory to: /mnt/nas05/clusterdata01/home2/g.torresgamez/FlareSense\n"
     ]
    }
   ],
   "source": [
    "import os\n",
    "\n",
    "os.chdir(\"..\")\n",
    "print(f\"Changed working directory to: {os.getcwd()}\")"
   ]
  },
  {
   "cell_type": "code",
   "execution_count": 2,
   "id": "52526b21",
   "metadata": {
    "execution": {
     "iopub.execute_input": "2023-11-23T23:34:25.526295Z",
     "iopub.status.busy": "2023-11-23T23:34:25.526148Z",
     "iopub.status.idle": "2023-11-23T23:34:25.529154Z",
     "shell.execute_reply": "2023-11-23T23:34:25.528835Z"
    },
    "papermill": {
     "duration": 0.005961,
     "end_time": "2023-11-23T23:34:25.529855",
     "exception": false,
     "start_time": "2023-11-23T23:34:25.523894",
     "status": "completed"
    },
    "tags": []
   },
   "outputs": [
    {
     "name": "stdout",
     "output_type": "stream",
     "text": [
      "data/raw/burst_images/ already exists, skipping unzipping\n"
     ]
    }
   ],
   "source": [
    "# unzip data/raw/burst_list.zip if not already unzipped\n",
    "if not os.path.exists(\"data/raw/burst_images\"):\n",
    "    os.system(\"unzip -q data/raw/burst_images.zip -x '__MACOSX/*' -d data/raw/burst_images/\")\n",
    "    print(\"unzipped data/raw/burst_images.zip to data/raw/burst_images\")\n",
    "else:\n",
    "    print(\"data/raw/burst_images/ already exists, skipping unzipping\")"
   ]
  }
 ],
 "metadata": {
  "kernelspec": {
   "display_name": "Python 3 (ipykernel)",
   "language": "python",
   "name": "python3"
  },
  "language_info": {
   "codemirror_mode": {
    "name": "ipython",
    "version": 3
   },
   "file_extension": ".py",
   "mimetype": "text/x-python",
   "name": "python",
   "nbconvert_exporter": "python",
   "pygments_lexer": "ipython3",
   "version": "3.10.12"
  },
  "papermill": {
   "default_parameters": {},
   "duration": 2.422555,
   "end_time": "2023-11-23T23:34:25.645891",
   "environment_variables": {},
   "exception": null,
   "input_path": "00-Unzip.ipynb",
   "output_path": "00-Unzip.ipynb",
   "parameters": {},
   "start_time": "2023-11-23T23:34:23.223336",
   "version": "2.4.0"
  }
 },
 "nbformat": 4,
 "nbformat_minor": 5
}