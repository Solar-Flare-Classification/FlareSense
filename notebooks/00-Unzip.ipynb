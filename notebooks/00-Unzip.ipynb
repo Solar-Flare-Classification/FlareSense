{
 "cells": [
  {
   "cell_type": "code",
   "execution_count": 1,
   "id": "5f82fe8b",
   "metadata": {
    "execution": {
     "iopub.execute_input": "2023-11-30T21:52:59.666271Z",
     "iopub.status.busy": "2023-11-30T21:52:59.665943Z",
     "iopub.status.idle": "2023-11-30T21:52:59.673393Z",
     "shell.execute_reply": "2023-11-30T21:52:59.673043Z"
    },
    "papermill": {
     "duration": 0.060053,
     "end_time": "2023-11-30T21:52:59.674282",
     "exception": false,
     "start_time": "2023-11-30T21:52:59.614229",
     "status": "completed"
    },
    "tags": []
   },
   "outputs": [
    {
     "name": "stdout",
     "output_type": "stream",
     "text": [
      "Changed working directory to: /mnt/nas05/clusterdata01/home2/g.torresgamez/FlareSense\n"
     ]
    }
   ],
   "source": [
    "import os\n",
    "\n",
    "os.chdir(\"..\")\n",
    "print(f\"Changed working directory to: {os.getcwd()}\")"
   ]
  },
  {
   "cell_type": "code",
   "execution_count": 2,
   "id": "52526b21",
   "metadata": {
    "execution": {
     "iopub.execute_input": "2023-11-30T21:52:59.680312Z",
     "iopub.status.busy": "2023-11-30T21:52:59.679929Z",
     "iopub.status.idle": "2023-11-30T21:52:59.682958Z",
     "shell.execute_reply": "2023-11-30T21:52:59.682604Z"
    },
    "papermill": {
     "duration": 0.007699,
     "end_time": "2023-11-30T21:52:59.684223",
     "exception": false,
     "start_time": "2023-11-30T21:52:59.676524",
     "status": "completed"
    },
    "tags": []
   },
   "outputs": [
    {
     "name": "stdout",
     "output_type": "stream",
     "text": [
      "data/raw/burst_images/ already exists, skipping unzipping\n"
     ]
    }
   ],
   "source": [
    "# unzip data/raw/burst_list.zip if not already unzipped\n",
    "if not os.path.exists(\"data/raw/burst_images\"):\n",
    "    os.system(\"unzip -q data/raw/burst_images.zip -x '__MACOSX/*' -d data/raw/burst_images/\")\n",
    "    print(\"unzipped data/raw/burst_images.zip to data/raw/burst_images\")\n",
    "else:\n",
    "    print(\"data/raw/burst_images/ already exists, skipping unzipping\")"
   ]
  }
 ],
 "metadata": {
  "kernelspec": {
   "display_name": "Python 3 (ipykernel)",
   "language": "python",
   "name": "python3"
  },
  "language_info": {
   "codemirror_mode": {
    "name": "ipython",
    "version": 3
   },
   "file_extension": ".py",
   "mimetype": "text/x-python",
   "name": "python",
   "nbconvert_exporter": "python",
   "pygments_lexer": "ipython3",
   "version": "3.10.12"
  },
  "papermill": {
   "default_parameters": {},
   "duration": 2.605305,
   "end_time": "2023-11-30T21:52:59.901949",
   "environment_variables": {},
   "exception": null,
   "input_path": "00-Unzip.ipynb",
   "output_path": "00-Unzip.ipynb",
   "parameters": {},
   "start_time": "2023-11-30T21:52:57.296644",
   "version": "2.4.0"
  }
 },
 "nbformat": 4,
 "nbformat_minor": 5
}