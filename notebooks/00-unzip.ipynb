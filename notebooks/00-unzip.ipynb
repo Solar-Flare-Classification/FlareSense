{
 "cells": [
  {
   "cell_type": "code",
   "execution_count": 1,
   "metadata": {},
   "outputs": [
    {
     "name": "stdout",
     "output_type": "stream",
     "text": [
      "Changed working directory to: /home/jovyan/work/FlareSense\n"
     ]
    }
   ],
   "source": [
    "import os\n",
    "\n",
    "os.chdir(\"..\")\n",
    "print(f\"Changed working directory to: {os.getcwd()}\")"
   ]
  },
  {
   "cell_type": "code",
   "execution_count": 2,
   "metadata": {
    "tags": []
   },
   "outputs": [
    {
     "name": "stdout",
     "output_type": "stream",
     "text": [
      "data/raw/burst_images/ already exists, skipping unzipping\n"
     ]
    }
   ],
   "source": [
    "# unzip data/raw/burst_list.zip if not already unzipped\n",
    "if not os.path.exists(\"data/raw/burst_images\"):\n",
    "    os.system(\"unzip -q data/raw/burst_images.zip -x '__MACOSX/*' -d data/raw/burst_images/\")\n",
    "    print(\"unzipped data/raw/burst_images.zip to data/raw/burst_images\")\n",
    "else:\n",
    "    print(\"data/raw/burst_images/ already exists, skipping unzipping\")"
   ]
  }
 ],
 "metadata": {
  "kernelspec": {
   "display_name": "Python 3 (ipykernel)",
   "language": "python",
   "name": "python3"
  },
  "language_info": {
   "codemirror_mode": {
    "name": "ipython",
    "version": 3
   },
   "file_extension": ".py",
   "mimetype": "text/x-python",
   "name": "python",
   "nbconvert_exporter": "python",
   "pygments_lexer": "ipython3",
   "version": "3.10.10"
  }
 },
 "nbformat": 4,
 "nbformat_minor": 4
}
