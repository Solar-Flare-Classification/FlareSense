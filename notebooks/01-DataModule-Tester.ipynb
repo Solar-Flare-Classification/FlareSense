{
 "cells": [
  {
   "cell_type": "code",
   "execution_count": 1,
   "metadata": {},
   "outputs": [
    {
     "name": "stdout",
     "output_type": "stream",
     "text": [
      "Changed working directory to: /home/jovyan/work/FlareSense\n"
     ]
    }
   ],
   "source": [
    "import os\n",
    "\n",
    "os.chdir(\"..\")\n",
    "print(f\"Changed working directory to: {os.getcwd()}\")"
   ]
  },
  {
   "cell_type": "code",
   "execution_count": 2,
   "metadata": {},
   "outputs": [],
   "source": [
    "import torch\n",
    "import src.utils.data as data\n",
    "\n",
    "from torchvision import transforms\n",
    "from pprint import pprint"
   ]
  },
  {
   "cell_type": "markdown",
   "metadata": {},
   "source": [
    "### Beispiel eines Data Loaders und deren Daten"
   ]
  },
  {
   "cell_type": "code",
   "execution_count": 3,
   "metadata": {},
   "outputs": [
    {
     "name": "stdout",
     "output_type": "stream",
     "text": [
      "Not enough validation bursts (97), minimum 119 needed\n",
      "Reshuffling...\n",
      "\n",
      "Not enough validation bursts (46), minimum 119 needed\n",
      "Not enough test bursts (99), minimum 119 needed\n",
      "Reshuffling...\n",
      "\n",
      "Not enough validation bursts (86), minimum 119 needed\n",
      "Reshuffling...\n",
      "\n",
      "Too many test bursts (396), maximum 266 allowed\n",
      "Reshuffling...\n",
      "\n",
      "Dataset split successfully\n",
      "Train:\t\t863 bursts\n",
      "Validation:\t148 bursts\n",
      "Test:\t\t172 bursts\n"
     ]
    }
   ],
   "source": [
    "data_folder_path = \"data/raw/burst_images/\"\n",
    "\n",
    "data_module = data.ECallistoDataModule(\n",
    "    data_folder=data_folder_path,\n",
    "    transform=transforms.Compose(\n",
    "        [\n",
    "            transforms.ToPILImage(),\n",
    "            transforms.Resize((193, 240), antialias=True),\n",
    "            transforms.ToTensor(),\n",
    "        ]\n",
    "    ),\n",
    "    batch_size=32,\n",
    "    num_workers=0,\n",
    "    val_ratio=0.15,\n",
    "    test_ratio=0.15,\n",
    "    split_by_date=True,\n",
    "    filter_instruments=[\"australia_assa_02\"],\n",
    ")\n",
    "data_module.setup()"
   ]
  },
  {
   "cell_type": "markdown",
   "metadata": {},
   "source": [
    "### Overlap überprüfen"
   ]
  },
  {
   "cell_type": "code",
   "execution_count": 4,
   "metadata": {},
   "outputs": [
    {
     "name": "stdout",
     "output_type": "stream",
     "text": [
      "Intersection in train and val: 0\n",
      "Intersection in train and test: 0\n",
      "Intersection in val and test: 0\n"
     ]
    }
   ],
   "source": [
    "# check overlaps train and val\n",
    "files_train = data_module.train_dataset.observations[\"file_path\"].to_list()\n",
    "files_val = data_module.val_dataset.observations[\"file_path\"].to_list()\n",
    "print(f\"Intersection in train and val: {len(set(files_train).intersection(set(files_val)))}\")\n",
    "\n",
    "# check overlaps train and test\n",
    "files_test = data_module.test_dataset.observations[\"file_path\"].to_list()\n",
    "print(f\"Intersection in train and test: {len(set(files_train).intersection(set(files_test)))}\")\n",
    "\n",
    "# check overlaps val and test\n",
    "print(f\"Intersection in val and test: {len(set(files_val).intersection(set(files_test)))}\")"
   ]
  },
  {
   "cell_type": "markdown",
   "metadata": {},
   "source": [
    "### Überprüfung der Batches"
   ]
  },
  {
   "cell_type": "code",
   "execution_count": 5,
   "metadata": {
    "tags": []
   },
   "outputs": [
    {
     "name": "stdout",
     "output_type": "stream",
     "text": [
      "Image shape: torch.Size([32, 1, 193, 240])\n",
      "{'end': '2021-03-22 04:38:00',\n",
      " 'file_path': 'data/raw/burst_images/no_burst/2021-03-22 04-37-00_2021-03-22 '\n",
      "              '04-38-00_australia_assa_02_None_no_burst.png',\n",
      " 'instrument': 'australia_assa_02',\n",
      " 'label': 'no_burst',\n",
      " 'start': '2021-03-22 04:37:00'}\n"
     ]
    }
   ],
   "source": [
    "train_loader = data_module.train_dataloader()\n",
    "image, info = next(iter(train_loader))\n",
    "\n",
    "print(f\"Image shape: {image.shape}\")\n",
    "pprint({key: value[0] for key, value in info.items()})"
   ]
  }
 ],
 "metadata": {
  "kernelspec": {
   "display_name": "Python 3 (ipykernel)",
   "language": "python",
   "name": "python3"
  },
  "language_info": {
   "codemirror_mode": {
    "name": "ipython",
    "version": 3
   },
   "file_extension": ".py",
   "mimetype": "text/x-python",
   "name": "python",
   "nbconvert_exporter": "python",
   "pygments_lexer": "ipython3",
   "version": "3.10.10"
  },
  "vscode": {
   "interpreter": {
    "hash": "6e05621076ca54fd44c7c0ce1b6a0f390ce58f91d2fe1d180f4996db114adea7"
   }
  }
 },
 "nbformat": 4,
 "nbformat_minor": 4
}
