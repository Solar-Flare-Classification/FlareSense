{
 "cells": [
  {
   "cell_type": "code",
   "execution_count": 1,
   "metadata": {},
   "outputs": [
    {
     "name": "stdout",
     "output_type": "stream",
     "text": [
      "Current working directory: /Users/gabriel.torres/Nextcloud/Development/Pro5D/FlareSense/notebooks\n",
      "Changed working directory to: /Users/gabriel.torres/Nextcloud/Development/Pro5D/FlareSense\n"
     ]
    }
   ],
   "source": [
    "import os\n",
    "\n",
    "# go to root directory if needed\n",
    "print(f\"Current working directory: {os.getcwd()}\")\n",
    "if os.getcwd().split(\"/\")[-1] == \"notebooks\":\n",
    "    os.chdir(\"..\")\n",
    "    print(f\"Changed working directory to: {os.getcwd()}\")"
   ]
  },
  {
   "cell_type": "code",
   "execution_count": 2,
   "metadata": {},
   "outputs": [
    {
     "data": {
      "text/plain": [
       "<torch._C.Generator at 0x1164d2d90>"
      ]
     },
     "execution_count": 2,
     "metadata": {},
     "output_type": "execute_result"
    }
   ],
   "source": [
    "import torch\n",
    "import src.utils.data as data\n",
    "\n",
    "from torchvision import transforms\n",
    "\n",
    "# Settings\n",
    "torch.manual_seed(0)"
   ]
  },
  {
   "cell_type": "code",
   "execution_count": 3,
   "metadata": {},
   "outputs": [
    {
     "name": "stdout",
     "output_type": "stream",
     "text": [
      "data/raw/burst_list already exists, skipping unzipping\n"
     ]
    }
   ],
   "source": [
    "# unzip data/raw/burst_list.zip if not already unzipped\n",
    "if not os.path.exists(\"data/raw/burst_images\"):\n",
    "    os.system(\"unzip -q data/raw/burst_images.zip -x '__MACOSX/*' -d data/raw/burst_images/\")\n",
    "    print(\"unzipped data/raw/burst_list.zip to data/raw/burst_images\")\n",
    "else:\n",
    "    print(\"data/raw/burst_list already exists, skipping unzipping\")"
   ]
  },
  {
   "attachments": {},
   "cell_type": "markdown",
   "metadata": {},
   "source": [
    "Loading data"
   ]
  },
  {
   "cell_type": "code",
   "execution_count": 4,
   "metadata": {},
   "outputs": [],
   "source": [
    "# Als DataModule (Trainings-, Validierungs- und Testdaten unterteilt)\n",
    "data_folder_path = \"data/raw/burst_images/\"\n",
    "\n",
    "data_module = data.ECallistoDataModule(\n",
    "    data_folder=data_folder_path,\n",
    "    transform=transforms.Compose(\n",
    "        [\n",
    "            transforms.Resize((193, 240), antialias=True),\n",
    "        ]\n",
    "    ),\n",
    "    batch_size=32,\n",
    "    num_workers=0,\n",
    "    val_ratio=0.2,\n",
    "    test_ratio=0.2,\n",
    ")\n",
    "data_module.setup()"
   ]
  },
  {
   "cell_type": "code",
   "execution_count": 5,
   "metadata": {},
   "outputs": [
    {
     "name": "stdout",
     "output_type": "stream",
     "text": [
      "First data in batch: tensor([[ 56,  54,  54,  ...,  56,  56,  56],\n",
      "        [126, 151, 100,  ..., 151, 179, 165],\n",
      "        [147, 144, 118,  ..., 147, 162, 155],\n",
      "        ...,\n",
      "        [  7,   3,   7,  ...,   3,   3,   7],\n",
      "        [  0,   3,   3,  ...,   0,   3,   7],\n",
      "        [  3,   7,   3,  ...,   3,   0,   3]], dtype=torch.uint8)\n",
      "Timestamp of first data: 2022-06-08 00-55-00_2022-06-08 00-56-00_australia_assa_62_None_no_burst.png\n",
      "Folder number of data: no_burst\n"
     ]
    }
   ],
   "source": [
    "batch_data, batch_filenames, batch_labels = next(iter(data_module.train_dataloader()))\n",
    "\n",
    "first_data_in_batch = batch_data[0]\n",
    "first_timestamp_in_batch = batch_filenames[0]\n",
    "first_folder_number_in_batch = batch_labels[0]\n",
    "\n",
    "print(\"First data in batch:\", first_data_in_batch)\n",
    "print(\"Timestamp of first data:\", first_timestamp_in_batch)\n",
    "print(\"Folder number of data:\", first_folder_number_in_batch)"
   ]
  },
  {
   "attachments": {},
   "cell_type": "markdown",
   "metadata": {},
   "source": [
    "Get samples per class for each dataloader"
   ]
  },
  {
   "cell_type": "code",
   "execution_count": 6,
   "metadata": {},
   "outputs": [
    {
     "name": "stdout",
     "output_type": "stream",
     "text": [
      "Distribution of classes in training set: {'2': 58, '3': 204, '4': 9, '5': 4, '6': 440, 'no_burst': 51170}\n",
      "Distribution of classes in validation set: {'2': 18, '3': 67, '4': 3, '6': 146, 'no_burst': 17056}\n",
      "Distribution of classes in test set: {'2': 18, '3': 67, '4': 3, '6': 146, 'no_burst': 17056}\n"
     ]
    }
   ],
   "source": [
    "def count_samples_per_class(dataloader):\n",
    "    count = {}\n",
    "    for _, _, label in dataloader.dataset:\n",
    "        if label not in count:\n",
    "            count[label] = 0\n",
    "        count[label] += 1\n",
    "    return dict(sorted(count.items()))\n",
    "\n",
    "print(\n",
    "    f\"Distribution of classes in training set: {count_samples_per_class(data_module.train_dataloader())}\"\n",
    ")\n",
    "\n",
    "print(\n",
    "    f\"Distribution of classes in validation set: {count_samples_per_class(data_module.val_dataloader())}\"\n",
    ")\n",
    "\n",
    "print(\n",
    "    f\"Distribution of classes in test set: {count_samples_per_class(data_module.test_dataloader())}\"\n",
    ")"
   ]
  },
  {
   "attachments": {},
   "cell_type": "markdown",
   "metadata": {},
   "source": [
    "and check with number of rows in the dataset"
   ]
  },
  {
   "cell_type": "code",
   "execution_count": 7,
   "metadata": {},
   "outputs": [
    {
     "name": "stdout",
     "output_type": "stream",
     "text": [
      "Train Dataset Length: 51885\n",
      "Val Dataset Length: 17290\n",
      "Test Dataset Length: 17290\n"
     ]
    }
   ],
   "source": [
    "print(f\"Train Dataset Length: {len(data_module.train_dataset)}\")\n",
    "print(f\"Val Dataset Length: {len(data_module.val_dataset)}\")\n",
    "print(f\"Test Dataset Length: {len(data_module.test_dataset)}\")"
   ]
  }
 ],
 "metadata": {
  "kernelspec": {
   "display_name": "Python 3",
   "language": "python",
   "name": "python3"
  },
  "language_info": {
   "codemirror_mode": {
    "name": "ipython",
    "version": 3
   },
   "file_extension": ".py",
   "mimetype": "text/x-python",
   "name": "python",
   "nbconvert_exporter": "python",
   "pygments_lexer": "ipython3",
   "version": "3.11.6"
  },
  "orig_nbformat": 4,
  "vscode": {
   "interpreter": {
    "hash": "269cf2f92329ade5410ea106c9b830a2a3a4b403f68305fdd35f54dc4888a741"
   }
  }
 },
 "nbformat": 4,
 "nbformat_minor": 2
}
