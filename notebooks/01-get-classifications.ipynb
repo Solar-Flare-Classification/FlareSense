{
 "cells": [
  {
   "cell_type": "code",
   "execution_count": null,
   "metadata": {},
   "outputs": [],
   "source": [
    "# Imports\n",
    "import pandas as pd\n",
    "import zipfile\n",
    "\n",
    "# Pandas options\n",
    "pd.set_option('display.max_colwidth', None)"
   ]
  },
  {
   "cell_type": "markdown",
   "metadata": {},
   "source": [
    "The provided dataset (../data/raw/sunburst_images.zip) contains images. <br>\n",
    "We want to create our own dataset using the classifications in the dataset. <br>\n",
    "Since we want to use the uncompressed intensity data, we won't be using the images. <br>\n",
    "Here we create a list of all the sunbursts in the provided dataset."
   ]
  },
  {
   "cell_type": "code",
   "execution_count": null,
   "metadata": {},
   "outputs": [],
   "source": [
    "zip_file_path = \"data/raw/sunburst_images.zip\"\n",
    "\n",
    "with zipfile.ZipFile(zip_file_path, \"r\") as zip_file:\n",
    "    file_names = zip_file.namelist()\n",
    "\n",
    "# Create a DataFrame with all the file names\n",
    "df = pd.DataFrame(file_names, columns=[\"File Name\"])\n",
    "\n",
    "# Filter out MacOS artifacts and directories\n",
    "df = df[~df[\"File Name\"].str.contains(\"__MACOSX\")]\n",
    "df = df[~df[\"File Name\"].str.contains(\"DS_Store\")]\n",
    "df = df[~df[\"File Name\"].str.endswith(\"/\")]\n",
    "\n",
    "# Extract the last folder, file name, and file extension\n",
    "df[\"Classification\"] = df[\"File Name\"].str.split(\"/\").str[-2]\n",
    "df[\"File Name\"] = df[\"File Name\"].str.split(\"/\").str[-1]\n",
    "df[\"Extension\"] = df[\"File Name\"].str.split(\".\").str[-1]\n",
    "df[\"File Name\"] = df[\"File Name\"].str.split(\".\").str[0]\n",
    "\n",
    "# Extract info from the file name\n",
    "df[\"Start\"] = pd.to_datetime(df[\"File Name\"].str.split(\"_\").str[0], format=\"%Y-%m-%d %H-%M-%S\")\n",
    "df[\"End\"] = pd.to_datetime(df[\"File Name\"].str.split(\"_\").str[1], format=\"%Y-%m-%d %H-%M-%S\")\n",
    "df[\"Instrument\"] = df[\"File Name\"].str.split(\"_\").str[2:5].str.join(\"-\")\n",
    "df[\"Instrument\"] = df[\"Instrument\"].str.replace(\"-None\", \"\")\n",
    "\n",
    "# Reorder the columns\n",
    "df = df[[\"Classification\", \"Instrument\", \"Start\", \"End\", \"File Name\", \"Extension\"]]\n",
    "\n",
    "df"
   ]
  },
  {
   "cell_type": "code",
   "execution_count": null,
   "metadata": {},
   "outputs": [],
   "source": [
    "df.to_csv(\"data/processed/sunburst_images.csv\", index=False)"
   ]
  }
 ],
 "metadata": {
  "kernelspec": {
   "display_name": "Python 3",
   "language": "python",
   "name": "python3"
  },
  "language_info": {
   "codemirror_mode": {
    "name": "ipython",
    "version": 3
   },
   "file_extension": ".py",
   "mimetype": "text/x-python",
   "name": "python",
   "nbconvert_exporter": "python",
   "pygments_lexer": "ipython3",
   "version": "3.11.6"
  },
  "orig_nbformat": 4
 },
 "nbformat": 4,
 "nbformat_minor": 2
}
