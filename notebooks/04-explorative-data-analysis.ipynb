{
 "cells": [
  {
   "cell_type": "code",
   "execution_count": 1,
   "metadata": {},
   "outputs": [],
   "source": [
    "import pandas as pd\n",
    "import os"
   ]
  },
  {
   "cell_type": "code",
   "execution_count": 2,
   "metadata": {},
   "outputs": [
    {
     "name": "stdout",
     "output_type": "stream",
     "text": [
      "Current working directory: /Users/gabriel.torres/Nextcloud/Development/Pro5D/FlareSense/notebooks\n",
      "Changed working directory to: /Users/gabriel.torres/Nextcloud/Development/Pro5D/FlareSense\n",
      "data/raw/ecallisto_ng_unzipped already exists, not unzipping\n"
     ]
    }
   ],
   "source": [
    "# go to root directory if needed\n",
    "print(f\"Current working directory: {os.getcwd()}\")\n",
    "if os.getcwd().split('/')[-1] == 'notebooks':\n",
    "    os.chdir('..')\n",
    "    print(f\"Changed working directory to: {os.getcwd()}\")\n",
    "\n",
    "# unzip data/raw/ecallisto_ng_zipped.zip if folder data/raw/ecallisto_ng_unzipped doesnt exist\n",
    "if not os.path.exists('data/raw/ecallisto_ng_unzipped'):\n",
    "    os.system('unzip -q data/raw/ecallisto_ng_zipped.zip -d data/raw/ecallisto_ng_unzipped')\n",
    "    print('Unzipped data/raw/ecallisto_ng_zipped.zip to data/raw/ecallisto_ng_unzipped')\n",
    "else:\n",
    "    print('data/raw/ecallisto_ng_unzipped already exists, not unzipping')\n"
   ]
  },
  {
   "cell_type": "code",
   "execution_count": 3,
   "metadata": {},
   "outputs": [
    {
     "data": {
      "text/html": [
       "<div>\n",
       "<style scoped>\n",
       "    .dataframe tbody tr th:only-of-type {\n",
       "        vertical-align: middle;\n",
       "    }\n",
       "\n",
       "    .dataframe tbody tr th {\n",
       "        vertical-align: top;\n",
       "    }\n",
       "\n",
       "    .dataframe thead th {\n",
       "        text-align: right;\n",
       "    }\n",
       "</style>\n",
       "<table border=\"1\" class=\"dataframe\">\n",
       "  <thead>\n",
       "    <tr style=\"text-align: right;\">\n",
       "      <th></th>\n",
       "      <th>Classification</th>\n",
       "      <th>Instrument</th>\n",
       "      <th>Start</th>\n",
       "      <th>End</th>\n",
       "      <th>File Name</th>\n",
       "    </tr>\n",
       "  </thead>\n",
       "  <tbody>\n",
       "    <tr>\n",
       "      <th>0</th>\n",
       "      <td>no_burst</td>\n",
       "      <td>australia_assa_02</td>\n",
       "      <td>2021-04-12 06:12:00</td>\n",
       "      <td>2021-04-12 06:13:00</td>\n",
       "      <td>australia_assa_02_2021-04-12 06-12-00_2021-04-...</td>\n",
       "    </tr>\n",
       "    <tr>\n",
       "      <th>1</th>\n",
       "      <td>no_burst</td>\n",
       "      <td>australia_assa_02</td>\n",
       "      <td>2021-06-29 23:32:00</td>\n",
       "      <td>2021-06-29 23:33:00</td>\n",
       "      <td>australia_assa_02_2021-06-29 23-32-00_2021-06-...</td>\n",
       "    </tr>\n",
       "    <tr>\n",
       "      <th>2</th>\n",
       "      <td>no_burst</td>\n",
       "      <td>swiss_landschlacht_01</td>\n",
       "      <td>2021-08-05 13:28:00</td>\n",
       "      <td>2021-08-05 13:29:00</td>\n",
       "      <td>swiss_landschlacht_01_2021-08-05 13-28-00_2021...</td>\n",
       "    </tr>\n",
       "    <tr>\n",
       "      <th>3</th>\n",
       "      <td>no_burst</td>\n",
       "      <td>swiss_landschlacht_01</td>\n",
       "      <td>2021-06-21 07:15:00</td>\n",
       "      <td>2021-06-21 07:16:00</td>\n",
       "      <td>swiss_landschlacht_01_2021-06-21 07-15-00_2021...</td>\n",
       "    </tr>\n",
       "    <tr>\n",
       "      <th>4</th>\n",
       "      <td>no_burst</td>\n",
       "      <td>alaska_haarp_62</td>\n",
       "      <td>2023-06-13 00:53:00</td>\n",
       "      <td>2023-06-13 00:54:00</td>\n",
       "      <td>alaska_haarp_62_2023-06-13 00-53-00_2023-06-13...</td>\n",
       "    </tr>\n",
       "    <tr>\n",
       "      <th>...</th>\n",
       "      <td>...</td>\n",
       "      <td>...</td>\n",
       "      <td>...</td>\n",
       "      <td>...</td>\n",
       "      <td>...</td>\n",
       "    </tr>\n",
       "    <tr>\n",
       "      <th>64197</th>\n",
       "      <td>no_burst</td>\n",
       "      <td>australia_assa_02</td>\n",
       "      <td>2021-02-14 09:09:00</td>\n",
       "      <td>2021-02-14 09:10:00</td>\n",
       "      <td>australia_assa_02_2021-02-14 09-09-00_2021-02-...</td>\n",
       "    </tr>\n",
       "    <tr>\n",
       "      <th>64198</th>\n",
       "      <td>no_burst</td>\n",
       "      <td>alaska_haarp_62</td>\n",
       "      <td>2023-02-20 20:12:00</td>\n",
       "      <td>2023-02-20 20:13:00</td>\n",
       "      <td>alaska_haarp_62_2023-02-20 20-12-00_2023-02-20...</td>\n",
       "    </tr>\n",
       "    <tr>\n",
       "      <th>64199</th>\n",
       "      <td>no_burst</td>\n",
       "      <td>australia_assa_02</td>\n",
       "      <td>2021-09-26 05:53:00</td>\n",
       "      <td>2021-09-26 05:54:00</td>\n",
       "      <td>australia_assa_02_2021-09-26 05-53-00_2021-09-...</td>\n",
       "    </tr>\n",
       "    <tr>\n",
       "      <th>64200</th>\n",
       "      <td>no_burst</td>\n",
       "      <td>alaska_haarp_62</td>\n",
       "      <td>2023-04-08 21:54:00</td>\n",
       "      <td>2023-04-08 21:55:00</td>\n",
       "      <td>alaska_haarp_62_2023-04-08 21-54-00_2023-04-08...</td>\n",
       "    </tr>\n",
       "    <tr>\n",
       "      <th>64201</th>\n",
       "      <td>no_burst</td>\n",
       "      <td>australia_assa_02</td>\n",
       "      <td>2021-06-14 06:47:00</td>\n",
       "      <td>2021-06-14 06:48:00</td>\n",
       "      <td>australia_assa_02_2021-06-14 06-47-00_2021-06-...</td>\n",
       "    </tr>\n",
       "  </tbody>\n",
       "</table>\n",
       "<p>64202 rows × 5 columns</p>\n",
       "</div>"
      ],
      "text/plain": [
       "      Classification             Instrument                Start  \\\n",
       "0           no_burst      australia_assa_02  2021-04-12 06:12:00   \n",
       "1           no_burst      australia_assa_02  2021-06-29 23:32:00   \n",
       "2           no_burst  swiss_landschlacht_01  2021-08-05 13:28:00   \n",
       "3           no_burst  swiss_landschlacht_01  2021-06-21 07:15:00   \n",
       "4           no_burst        alaska_haarp_62  2023-06-13 00:53:00   \n",
       "...              ...                    ...                  ...   \n",
       "64197       no_burst      australia_assa_02  2021-02-14 09:09:00   \n",
       "64198       no_burst        alaska_haarp_62  2023-02-20 20:12:00   \n",
       "64199       no_burst      australia_assa_02  2021-09-26 05:53:00   \n",
       "64200       no_burst        alaska_haarp_62  2023-04-08 21:54:00   \n",
       "64201       no_burst      australia_assa_02  2021-06-14 06:47:00   \n",
       "\n",
       "                       End                                          File Name  \n",
       "0      2021-04-12 06:13:00  australia_assa_02_2021-04-12 06-12-00_2021-04-...  \n",
       "1      2021-06-29 23:33:00  australia_assa_02_2021-06-29 23-32-00_2021-06-...  \n",
       "2      2021-08-05 13:29:00  swiss_landschlacht_01_2021-08-05 13-28-00_2021...  \n",
       "3      2021-06-21 07:16:00  swiss_landschlacht_01_2021-06-21 07-15-00_2021...  \n",
       "4      2023-06-13 00:54:00  alaska_haarp_62_2023-06-13 00-53-00_2023-06-13...  \n",
       "...                    ...                                                ...  \n",
       "64197  2021-02-14 09:10:00  australia_assa_02_2021-02-14 09-09-00_2021-02-...  \n",
       "64198  2023-02-20 20:13:00  alaska_haarp_62_2023-02-20 20-12-00_2023-02-20...  \n",
       "64199  2021-09-26 05:54:00  australia_assa_02_2021-09-26 05-53-00_2021-09-...  \n",
       "64200  2023-04-08 21:55:00  alaska_haarp_62_2023-04-08 21-54-00_2023-04-08...  \n",
       "64201  2021-06-14 06:48:00  australia_assa_02_2021-06-14 06-47-00_2021-06-...  \n",
       "\n",
       "[64202 rows x 5 columns]"
      ]
     },
     "execution_count": 3,
     "metadata": {},
     "output_type": "execute_result"
    }
   ],
   "source": [
    "sunbursts = pd.read_csv('data/processed/sunburst_images.csv')\n",
    "sunbursts"
   ]
  },
  {
   "cell_type": "code",
   "execution_count": 4,
   "metadata": {},
   "outputs": [
    {
     "data": {
      "text/plain": [
       "Classification\n",
       "2              94\n",
       "3             338\n",
       "4              15\n",
       "5               4\n",
       "6             732\n",
       "no_burst    63019\n",
       "Name: count, dtype: int64"
      ]
     },
     "execution_count": 4,
     "metadata": {},
     "output_type": "execute_result"
    }
   ],
   "source": [
    "sunbursts.Classification.value_counts().sort_index()"
   ]
  },
  {
   "cell_type": "code",
   "execution_count": 5,
   "metadata": {},
   "outputs": [
    {
     "name": "stdout",
     "output_type": "stream",
     "text": [
      "First observation: 2021-01-19 10:37:00\n",
      "Last observation: 2023-07-07 09:42:00\n"
     ]
    }
   ],
   "source": [
    "print(f\"First observation: {sunbursts['Start'].min()}\")\n",
    "print(f\"Last observation: {sunbursts['End'].max()}\")"
   ]
  }
 ],
 "metadata": {
  "kernelspec": {
   "display_name": "Python 3",
   "language": "python",
   "name": "python3"
  },
  "language_info": {
   "codemirror_mode": {
    "name": "ipython",
    "version": 3
   },
   "file_extension": ".py",
   "mimetype": "text/x-python",
   "name": "python",
   "nbconvert_exporter": "python",
   "pygments_lexer": "ipython3",
   "version": "3.11.6"
  }
 },
 "nbformat": 4,
 "nbformat_minor": 2
}
