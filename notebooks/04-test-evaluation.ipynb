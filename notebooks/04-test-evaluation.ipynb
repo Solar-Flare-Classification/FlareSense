{
 "cells": [
  {
   "cell_type": "code",
   "execution_count": 1,
   "metadata": {},
   "outputs": [
    {
     "name": "stdout",
     "output_type": "stream",
     "text": [
      "Changed working directory to: /home/jovyan/work/FlareSense\n"
     ]
    }
   ],
   "source": [
    "import os\n",
    "\n",
    "os.chdir(\"..\")\n",
    "print(f\"Changed working directory to: {os.getcwd()}\")"
   ]
  },
  {
   "cell_type": "code",
   "execution_count": 2,
   "metadata": {},
   "outputs": [],
   "source": [
    "import torch\n",
    "import mlflow\n",
    "import dagshub\n",
    "import numpy as np\n",
    "import torchmetrics\n",
    "import torch.nn as nn\n",
    "import torch.optim as optim\n",
    "import src.utils.data as data\n",
    "import pytorch_lightning as pl\n",
    "import torchvision.models as models\n",
    "\n",
    "from torchvision import transforms\n",
    "from sklearn.metrics import confusion_matrix\n",
    "from sklearn.metrics import classification_report\n",
    "from torchmetrics.classification import BinaryPrecision, BinaryRecall"
   ]
  },
  {
   "cell_type": "code",
   "execution_count": 3,
   "metadata": {},
   "outputs": [],
   "source": [
    "class ResNet50BinaryClassifier(pl.LightningModule):\n",
    "    def __init__(self):\n",
    "        super().__init__()\n",
    "        self.resnet50 = models.resnet50()\n",
    "        self.resnet50.conv1 = nn.Conv2d(1, 64, kernel_size=7, stride=2, padding=3, bias=False)\n",
    "        num_features = self.resnet50.fc.in_features\n",
    "        self.resnet50.fc = nn.Linear(num_features, 1)\n",
    "\n",
    "        # Initialisierung der Metriken\n",
    "        self.precision = BinaryPrecision(threshold=0.5)\n",
    "        self.recall = BinaryRecall(threshold=0.5)\n",
    "\n",
    "        # Initialisieren der Listen\n",
    "        self.test_labels = []\n",
    "        self.test_preds = []\n",
    "        self.val_outputs = []\n",
    "        self.val_labels = []\n",
    "        self.val_preds = []\n",
    "\n",
    "    def forward(self, x):\n",
    "        return self.resnet50(x)\n",
    "\n",
    "    def __step(self, batch):\n",
    "        images, _, labels_tuple, _ = batch\n",
    "\n",
    "        binary_labels = [0 if label == \"no_burst\" else 1 for label in labels_tuple]\n",
    "        binary_labels = torch.tensor(binary_labels).float().view(-1, 1)\n",
    "        binary_labels = binary_labels.to(images.device)\n",
    "\n",
    "        outputs = self(images)\n",
    "        return outputs, binary_labels\n",
    "\n",
    "    def training_step(self, batch, batch_idx):\n",
    "        outputs, binary_labels = self.__step(batch)\n",
    "        loss = nn.BCEWithLogitsLoss()(outputs, binary_labels)\n",
    "\n",
    "        self.log(\"train_loss\", loss)\n",
    "        return loss\n",
    "\n",
    "    def test_step(self, batch, batch_idx):\n",
    "        outputs, binary_labels = self.__step(batch)\n",
    "        loss = nn.BCEWithLogitsLoss()(outputs, binary_labels)\n",
    "\n",
    "        # Labels und Vorhersagen für spätere Verwendung speichern\n",
    "        self.test_labels.append(binary_labels)\n",
    "        self.test_preds.append(outputs)\n",
    "\n",
    "        # Berechnen und protokollieren des Verlusts\n",
    "        self.log(\n",
    "            \"test_loss\", loss, on_step=True, on_epoch=True, prog_bar=True, logger=True\n",
    "        )\n",
    "        return loss\n",
    "\n",
    "    def on_test_epoch_end(self):\n",
    "        # Konvertieren der gesammelten Daten in einzelne Tensoren\n",
    "        test_labels = torch.cat(self.test_labels, dim=0)\n",
    "        test_preds = torch.cat(self.test_preds, dim=0)\n",
    "\n",
    "        # Berechnen der Metriken\n",
    "        precision = self.precision(test_preds, test_labels)\n",
    "        recall = self.recall(test_preds, test_labels)\n",
    "\n",
    "        # Protokollieren der Metriken\n",
    "        self.log(\"test_precision\", precision)\n",
    "        self.log(\"test_recall\", recall)\n",
    "\n",
    "        # Bereinigen der Listen für die nächste Epoche\n",
    "        self.test_labels = []\n",
    "        self.test_preds = []\n",
    "\n",
    "    def validation_step(self, batch, batch_idx):\n",
    "        outputs, binary_labels = self.__step(batch)\n",
    "\n",
    "        # Labels und Vorhersagen für die spätere Verwendung speichern\n",
    "        predictions = (outputs >= 0.5).int()\n",
    "        self.val_labels.append(binary_labels.int())\n",
    "        self.val_preds.append(predictions)\n",
    "\n",
    "    def on_validation_epoch_end(self):\n",
    "        # Alle Validierungsdaten wurden gesammelt, und wir sind am Ende der Epoche.\n",
    "        val_labels = torch.cat(self.val_labels, dim=0)\n",
    "        val_preds = torch.cat(self.val_preds, dim=0)\n",
    "\n",
    "        # Berechnen der Metriken\n",
    "        precision = self.precision(val_preds, val_labels)\n",
    "        recall = self.recall(val_preds, val_labels)\n",
    "\n",
    "        # Protokollieren der Metriken\n",
    "        self.log(\"val_precision\", precision)\n",
    "        self.log(\"val_recall\", recall)\n",
    "\n",
    "        # Vergessen Sie nicht, die Listen für die nächste Validierungsrunde zu leeren\n",
    "        self.val_labels = []\n",
    "        self.val_preds = []\n",
    "\n",
    "    def configure_optimizers(self):\n",
    "        return optim.Adam(self.parameters(), lr=0.001)"
   ]
  },
  {
   "cell_type": "code",
   "execution_count": 4,
   "metadata": {},
   "outputs": [],
   "source": [
    "model_path = \"models/ResNet50BinaryClassifier.pth\"\n",
    "model = ResNet50BinaryClassifier()\n",
    "model.load_state_dict(torch.load(model_path))\n",
    "model.eval();"
   ]
  },
  {
   "cell_type": "code",
   "execution_count": 5,
   "metadata": {},
   "outputs": [],
   "source": [
    "data_folder_path = \"data/raw/burst_images/\"\n",
    "\n",
    "data_module = data.ECallistoDataModule(\n",
    "    data_folder=data_folder_path,\n",
    "    transform=transforms.Compose(\n",
    "        [\n",
    "            transforms.ToPILImage(),\n",
    "            transforms.Resize((193, 240), antialias=True),\n",
    "            transforms.ToTensor(),\n",
    "        ]\n",
    "    ),\n",
    "    batch_size=32,\n",
    "    num_workers=0,\n",
    "    val_ratio=0.2,\n",
    "    test_ratio=0.2,\n",
    "    split_by_date=True,\n",
    "    filter_instruments=[\"australia_assa_02\"],    \n",
    ")\n",
    "data_module.setup()\n",
    "\n",
    "val_loader = data_module.val_dataloader()"
   ]
  },
  {
   "cell_type": "code",
   "execution_count": 6,
   "metadata": {},
   "outputs": [],
   "source": [
    "val_labels_list = []\n",
    "val_preds_list = []\n",
    "with torch.no_grad():\n",
    "    for batch in val_loader:\n",
    "        images, info = batch\n",
    "        binary_labels = [0 if label == \"no_burst\" else 1 for label in info['label']]\n",
    "        binary_labels = torch.tensor(binary_labels).int().view(-1, 1)\n",
    "        binary_labels = binary_labels.to(images.device)\n",
    "        \n",
    "        outputs = model(images)\n",
    "        predictions = (outputs >= 0.5).int()\n",
    "        \n",
    "        val_labels_list.append(binary_labels)\n",
    "        val_preds_list.append(predictions)"
   ]
  },
  {
   "cell_type": "code",
   "execution_count": 7,
   "metadata": {},
   "outputs": [
    {
     "data": {
      "text/plain": [
       "131"
      ]
     },
     "execution_count": 7,
     "metadata": {},
     "output_type": "execute_result"
    }
   ],
   "source": [
    "len(val_preds_list)"
   ]
  },
  {
   "cell_type": "code",
   "execution_count": 8,
   "metadata": {},
   "outputs": [
    {
     "data": {
      "text/plain": [
       "131"
      ]
     },
     "execution_count": 8,
     "metadata": {},
     "output_type": "execute_result"
    }
   ],
   "source": [
    "len(val_loader)"
   ]
  },
  {
   "cell_type": "code",
   "execution_count": 9,
   "metadata": {},
   "outputs": [],
   "source": [
    "# Alle Validierungsdaten wurden gesammelt\n",
    "val_labels = torch.cat(val_labels_list, dim=0)\n",
    "val_preds = torch.cat(val_preds_list, dim=0)"
   ]
  },
  {
   "cell_type": "code",
   "execution_count": 10,
   "metadata": {
    "tags": []
   },
   "outputs": [
    {
     "ename": "TypeError",
     "evalue": "ConfusionMatrix.__new__() missing 1 required positional argument: 'task'",
     "output_type": "error",
     "traceback": [
      "\u001b[0;31m---------------------------------------------------------------------------\u001b[0m",
      "\u001b[0;31mTypeError\u001b[0m                                 Traceback (most recent call last)",
      "Cell \u001b[0;32mIn[10], line 2\u001b[0m\n\u001b[1;32m      1\u001b[0m \u001b[38;5;66;03m# Initialisieren Sie den ConfusionMatrix-Metriken von torchmetrics\u001b[39;00m\n\u001b[0;32m----> 2\u001b[0m confmat_metric \u001b[38;5;241m=\u001b[39m \u001b[43mtorchmetrics\u001b[49m\u001b[38;5;241;43m.\u001b[39;49m\u001b[43mConfusionMatrix\u001b[49m\u001b[43m(\u001b[49m\u001b[43mnum_classes\u001b[49m\u001b[38;5;241;43m=\u001b[39;49m\u001b[38;5;241;43m2\u001b[39;49m\u001b[43m)\u001b[49m\n\u001b[1;32m      3\u001b[0m confmat_metric(val_preds, val_labels)\n",
      "\u001b[0;31mTypeError\u001b[0m: ConfusionMatrix.__new__() missing 1 required positional argument: 'task'"
     ]
    }
   ],
   "source": [
    "# Initialisieren Sie den ConfusionMatrix-Metriken von torchmetrics\n",
    "confmat_metric = torchmetrics.ConfusionMatrix(num_classes=2)\n",
    "confmat_metric(val_preds, val_labels)"
   ]
  }
 ],
 "metadata": {
  "kernelspec": {
   "display_name": "Python 3 (ipykernel)",
   "language": "python",
   "name": "python3"
  },
  "language_info": {
   "codemirror_mode": {
    "name": "ipython",
    "version": 3
   },
   "file_extension": ".py",
   "mimetype": "text/x-python",
   "name": "python",
   "nbconvert_exporter": "python",
   "pygments_lexer": "ipython3",
   "version": "3.10.10"
  },
  "vscode": {
   "interpreter": {
    "hash": "6e05621076ca54fd44c7c0ce1b6a0f390ce58f91d2fe1d180f4996db114adea7"
   }
  }
 },
 "nbformat": 4,
 "nbformat_minor": 4
}
