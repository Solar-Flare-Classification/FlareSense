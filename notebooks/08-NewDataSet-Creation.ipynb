{
 "cells": [
  {
   "cell_type": "markdown",
   "metadata": {},
   "source": [
    "## Einleitung\n",
    "\n",
    "\n",
    "In der Stille eines gelöschten Codes offenbart sich die universelle Wahrheit der Vergänglichkeit. <br>Jedes geschriebene Wort, jede Zeile Code, ist wie ein flüchtiger Atemzug im unendlichen Kosmos der Zeit. <br>Vergänglich und doch unendlich wertvoll, erinnert uns der verlorene Code daran, dass alles, was wir erschaffen, dem Fluss der Zeit unterworfen ist. <br>In diesem Akt des Verlustes liegt eine stille Weisheit – eine Erinnerung daran, die Schönheit des Augenblicks zu schätzen und das Ephemere in seiner ganzen Pracht zu umarmen. <br>Jedes Ende birgt den Samen eines neuen Anfangs, in jedem Abschied die Möglichkeit neuer Kreationen. <br>So ist das versehentliche Löschen eines Codes nicht nur ein Verlust, sondern auch eine Einladung, im Tanz der Zeit unseren eigenen Rhythmus zu finden."
   ]
  },
  {
   "cell_type": "markdown",
   "metadata": {},
   "source": [
    "## Was getan wurde\n",
    "Bestehend aus der gefilterten Liste im Notebook 07-LabelEDA wurde mit ecallisto_ng ein Export aller möglichen Bursts und non Bursts von den Instrumenten Australia-ASSA_01, _02, _62, _63 erstellt. Bei allen Burst Ereignissen wurden die 10 Minuten Bursts auf 15 Minuten erweitert, indem vor und nach dem Burst ein Padding hinzugefügt wurde. Somit konnten die Daten augmentiert werden. Letztlich wurde eine Liste mit allen heruntergeladenen Spektren (metadata.csv) erstellt. Der Datensatz ist auf Huggingface verfügbar: https://huggingface.co/datasets/StellarMilk/ecallisto-bursts"
   ]
  }
 ],
 "metadata": {
  "language_info": {
   "name": "python"
  }
 },
 "nbformat": 4,
 "nbformat_minor": 2
}
