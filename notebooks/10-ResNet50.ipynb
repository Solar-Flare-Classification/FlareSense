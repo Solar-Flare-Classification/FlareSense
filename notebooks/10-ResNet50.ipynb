{
 "cells": [
  {
   "cell_type": "code",
   "execution_count": 1,
   "metadata": {},
   "outputs": [
    {
     "name": "stdout",
     "output_type": "stream",
     "text": [
      "Changed working directory to: /home/jovyan/work/FlareSense\n"
     ]
    }
   ],
   "source": [
    "import os\n",
    "\n",
    "os.chdir(\"..\")\n",
    "print(f\"Changed working directory to: {os.getcwd()}\")"
   ]
  },
  {
   "cell_type": "code",
   "execution_count": 2,
   "metadata": {},
   "outputs": [
    {
     "name": "stderr",
     "output_type": "stream",
     "text": [
      "2023-12-27 13:36:18.462399: I tensorflow/core/platform/cpu_feature_guard.cc:193] This TensorFlow binary is optimized with oneAPI Deep Neural Network Library (oneDNN) to use the following CPU instructions in performance-critical operations:  AVX2 AVX512F AVX512_VNNI AVX512_BF16 FMA\n",
      "To enable them in other operations, rebuild TensorFlow with the appropriate compiler flags.\n",
      "2023-12-27 13:36:18.529158: I tensorflow/core/util/util.cc:169] oneDNN custom operations are on. You may see slightly different numerical results due to floating-point round-off errors from different computation orders. To turn them off, set the environment variable `TF_ENABLE_ONEDNN_OPTS=0`.\n",
      "2023-12-27 13:36:18.544633: E tensorflow/stream_executor/cuda/cuda_blas.cc:2981] Unable to register cuBLAS factory: Attempting to register factory for plugin cuBLAS when one has already been registered\n",
      "2023-12-27 13:36:18.898128: W tensorflow/stream_executor/platform/default/dso_loader.cc:64] Could not load dynamic library 'libnvinfer.so.7'; dlerror: libnvinfer.so.7: cannot open shared object file: No such file or directory\n",
      "2023-12-27 13:36:18.898171: W tensorflow/stream_executor/platform/default/dso_loader.cc:64] Could not load dynamic library 'libnvinfer_plugin.so.7'; dlerror: libnvinfer_plugin.so.7: cannot open shared object file: No such file or directory\n",
      "2023-12-27 13:36:18.898176: W tensorflow/compiler/tf2tensorrt/utils/py_utils.cc:38] TF-TRT Warning: Cannot dlopen some TensorRT libraries. If you would like to use Nvidia GPU with TensorRT, please make sure the missing libraries mentioned above are installed properly.\n"
     ]
    }
   ],
   "source": [
    "import torch\n",
    "import mlflow\n",
    "import dagshub\n",
    "import itertools\n",
    "import torchmetrics\n",
    "import src.utils.data15min as data\n",
    "import pytorch_lightning as pl\n",
    "\n",
    "from huggingface_hub import snapshot_download\n",
    "from torchvision import transforms\n",
    "from tqdm.notebook import tqdm\n",
    "from src.models.ResNet50BinaryClassifier import ResNet50BinaryClassifier\n",
    "\n",
    "mlflow.pytorch.autolog()\n",
    "torch.set_float32_matmul_precision(\"high\")"
   ]
  },
  {
   "cell_type": "code",
   "execution_count": 3,
   "metadata": {
    "tags": []
   },
   "outputs": [],
   "source": [
    "DATA_FOLDER_PATH = \"data/raw/exported/\"\n",
    "INSTRUMENTS = [\"Australia-ASSA_02\", \"Australia-ASSA_62\"]"
   ]
  },
  {
   "cell_type": "code",
   "execution_count": 4,
   "metadata": {},
   "outputs": [
    {
     "data": {
      "application/vnd.jupyter.widget-view+json": {
       "model_id": "2a668f8906ae4540bc6829753c5887ba",
       "version_major": 2,
       "version_minor": 0
      },
      "text/plain": [
       "Fetching 3 files:   0%|          | 0/3 [00:00<?, ?it/s]"
      ]
     },
     "metadata": {},
     "output_type": "display_data"
    },
    {
     "name": "stdout",
     "output_type": "stream",
     "text": [
      "Skipping Australia-ASSA_02\n",
      "Skipping Australia-ASSA_62\n"
     ]
    }
   ],
   "source": [
    "# download needed files\n",
    "snapshot_download(\n",
    "    \"StellarMilk/ecallisto-bursts\",\n",
    "    repo_type=\"dataset\",\n",
    "    allow_patterns=[f\"{instrument}.zip\" for instrument in INSTRUMENTS] + [\"metadata.csv\"],\n",
    "    local_dir=DATA_FOLDER_PATH,\n",
    "    revision=\"main\",\n",
    ")\n",
    "\n",
    "for instrument in INSTRUMENTS:\n",
    "    # if data available, skip\n",
    "    if os.path.exists(f\"{DATA_FOLDER_PATH}{instrument}\"):\n",
    "        print(f\"Skipping {instrument}\")\n",
    "        continue\n",
    "    \n",
    "    # unzip if needed\n",
    "    print(f\"Unzipping {instrument}\")\n",
    "    !unzip -q {DATA_FOLDER_PATH}{instrument}.zip -d {DATA_FOLDER_PATH}"
   ]
  },
  {
   "cell_type": "code",
   "execution_count": 5,
   "metadata": {},
   "outputs": [],
   "source": [
    "data_module = data.ECallistoDataModule(\n",
    "    data_folder=DATA_FOLDER_PATH,\n",
    "    batch_size=64,\n",
    "    num_workers=12,\n",
    "    val_ratio=0.15,\n",
    "    test_ratio=0.15,\n",
    "    img_size=(224, 224),\n",
    "    use_augmented_data=False,\n",
    "    filter_instruments=[\"Australia-ASSA_02\", \"Australia-ASSA_62\"],\n",
    "    seed=0,\n",
    ")\n",
    "data_module.setup()\n",
    "\n",
    "data_module_aug = data.ECallistoDataModule(\n",
    "    data_folder=DATA_FOLDER_PATH,\n",
    "    batch_size=64,\n",
    "    num_workers=12,\n",
    "    val_ratio=0.15,\n",
    "    test_ratio=0.15,\n",
    "    img_size=(224, 224),\n",
    "    use_augmented_data=True,\n",
    "    filter_instruments=[\"Australia-ASSA_02\", \"Australia-ASSA_62\"],\n",
    "    seed=0,\n",
    ")\n",
    "data_module_aug.setup()"
   ]
  },
  {
   "cell_type": "code",
   "execution_count": 6,
   "metadata": {},
   "outputs": [
    {
     "name": "stdout",
     "output_type": "stream",
     "text": [
      "Train dataset without augmented data:\n",
      "no_burst    29967\n",
      "III          1569\n",
      "VI             54\n",
      "II             28\n",
      "V              28\n",
      "IV              5\n",
      "I               2 \n",
      "\n",
      "Train dataset with augmented data:\n",
      "no_burst    29967\n",
      "III         18277\n",
      "VI            333\n",
      "V             324\n",
      "II            253\n",
      "IV             36\n",
      "I              24 \n",
      "\n",
      "Validation dataset:\n",
      "no_burst    6422\n",
      "III          329\n",
      "VI            13\n",
      "II            10\n",
      "V              6\n",
      "I              1\n",
      "IV             1 \n",
      "\n",
      "Test dataset:\n",
      "no_burst    6369\n",
      "III          385\n",
      "VI            15\n",
      "II             6\n",
      "V              5\n",
      "IV             2\n"
     ]
    }
   ],
   "source": [
    "print(\"Train dataset without augmented data:\")\n",
    "print(data_module.train_dataset.metadata.type.value_counts().to_string(header=False), \"\\n\")\n",
    "\n",
    "print(\"Train dataset with augmented data:\")\n",
    "print(data_module_aug.train_dataset.metadata.type.value_counts().to_string(header=False), \"\\n\")\n",
    "\n",
    "print(\"Validation dataset:\")\n",
    "print(data_module.val_dataset.metadata.type.value_counts().to_string(header=False), \"\\n\")\n",
    "\n",
    "print(\"Test dataset:\")\n",
    "print(data_module.test_dataset.metadata.type.value_counts().to_string(header=False))"
   ]
  },
  {
   "cell_type": "code",
   "execution_count": null,
   "metadata": {
    "tags": []
   },
   "outputs": [],
   "source": [
    "lst_lr = [1e-3, 3e-4, 1e-4, 3e-5]\n",
    "lst_weight_decay = [3e-3, 1e-3, 3e-4, 1e-4]\n",
    "lst_use_data_augmentation = [False, True]\n",
    "\n",
    "for use_data_augmentation in lst_use_data_augmentation:\n",
    "    data_module = data.ECallistoDataModule(\n",
    "        data_folder=DATA_FOLDER_PATH,\n",
    "        batch_size=64,\n",
    "        num_workers=12,\n",
    "        val_ratio=0.15,\n",
    "        test_ratio=0.15,\n",
    "        img_size=(224, 224),\n",
    "        use_augmented_data=use_data_augmentation,\n",
    "        filter_instruments=[\"Australia-ASSA_02\", \"Australia-ASSA_62\"],\n",
    "        seed=0,\n",
    "    )\n",
    "    data_module.setup()\n",
    "    \n",
    "    for current_lr, current_weight_decay in itertools.product(lst_lr, lst_weight_decay):\n",
    "        model = ResNet50BinaryClassifier(lr=current_lr, weight_decay=current_weight_decay)\n",
    "\n",
    "        dagshub.init(\"FlareSense\", \"FlareSense\", mlflow=True)\n",
    "        mlflow.start_run()\n",
    "\n",
    "        mlflow.log_params({\n",
    "            \"model\": \"ResNet50\",\n",
    "            \"batch_size\": data_module.batch_size,               \n",
    "            \"val_ratio\": data_module.val_ratio,\n",
    "            \"test_ratio\": data_module.test_ratio,\n",
    "            \"use_data_augmentation\": data_module.use_augmented_data,\n",
    "            \"filter_instruments\": data_module.filter_instruments,\n",
    "        })\n",
    "\n",
    "        run_id = mlflow.active_run().info.run_id\n",
    "        print(f\"Run ID: {run_id}\")\n",
    "        print(f\"Link: https://dagshub.com/FlareSense/FlareSense/experiments/#/experiment/m_{run_id}\")\n",
    "\n",
    "        trainer = pl.Trainer(max_epochs=30, log_every_n_steps=1)\n",
    "\n",
    "        trainer.fit(\n",
    "            model,\n",
    "            train_dataloaders=data_module.train_dataloader(),\n",
    "            val_dataloaders=data_module.val_dataloader(),\n",
    "        )\n",
    "\n",
    "        trainer.test(model, dataloaders=data_module.test_dataloader())\n",
    "\n",
    "        mlflow.end_run()"
   ]
  }
 ],
 "metadata": {
  "kernelspec": {
   "display_name": "Python 3 (ipykernel)",
   "language": "python",
   "name": "python3"
  },
  "language_info": {
   "codemirror_mode": {
    "name": "ipython",
    "version": 3
   },
   "file_extension": ".py",
   "mimetype": "text/x-python",
   "name": "python",
   "nbconvert_exporter": "python",
   "pygments_lexer": "ipython3",
   "version": "3.10.10"
  }
 },
 "nbformat": 4,
 "nbformat_minor": 4
}
