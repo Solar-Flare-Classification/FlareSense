{
 "cells": [
  {
   "cell_type": "code",
   "execution_count": null,
   "metadata": {},
   "outputs": [],
   "source": [
    "import os\n",
    "\n",
    "os.chdir(\"..\")\n",
    "print(f\"Changed working directory to: {os.getcwd()}\")"
   ]
  },
  {
   "cell_type": "code",
   "execution_count": null,
   "metadata": {},
   "outputs": [],
   "source": [
    "import torch\n",
    "import mlflow\n",
    "import dagshub\n",
    "import torchmetrics\n",
    "import src.utils.data15min as data\n",
    "import pytorch_lightning as pl\n",
    "\n",
    "from torchvision import transforms\n",
    "from tqdm.notebook import tqdm\n",
    "from src.models.ResNet50BinaryClassifier import ResNet50BinaryClassifier\n",
    "\n",
    "mlflow.pytorch.autolog()\n",
    "torch.set_float32_matmul_precision(\"high\")"
   ]
  },
  {
   "cell_type": "code",
   "execution_count": null,
   "metadata": {},
   "outputs": [],
   "source": [
    "model = ResNet50BinaryClassifier(lr=1e-4, weight_decay=1e-2)\n",
    "data_folder_path = \"data/raw/exported/\"\n",
    "\n",
    "data_module = data.ECallistoDataModule(\n",
    "    data_folder=data_folder_path,\n",
    "    batch_size=64,\n",
    "    num_workers=0,\n",
    "    val_ratio=0.15,\n",
    "    test_ratio=0.15,\n",
    "    img_size=(224, 224),\n",
    "    use_augmented_data=True,\n",
    "    filter_instruments=[],\n",
    "    seed=0,\n",
    ")\n",
    "data_module.setup()"
   ]
  },
  {
   "cell_type": "code",
   "execution_count": null,
   "metadata": {},
   "outputs": [],
   "source": [
    "print(\"Train dataset:\")\n",
    "print(data_module.train_dataset.metadata.type.value_counts().to_string(header=False), \"\\n\")\n",
    "\n",
    "print(\"Validation dataset:\")\n",
    "print(data_module.val_dataset.metadata.type.value_counts().to_string(header=False), \"\\n\")\n",
    "\n",
    "print(\"Test dataset:\")\n",
    "print(data_module.test_dataset.metadata.type.value_counts().to_string(header=False))"
   ]
  },
  {
   "cell_type": "code",
   "execution_count": null,
   "metadata": {},
   "outputs": [],
   "source": [
    "#dagshub.init(\"FlareSense\", \"FlareSense\", mlflow=True)\n",
    "#mlflow.start_run()\n",
    "\n",
    "#mlflow.log_params(\n",
    "#    {\n",
    "#        \"model\": \"ResNet50\",\n",
    "#        \"batch_size\": data_module.batch_size,\n",
    "#        \"val_ratio\": data_module.val_ratio,\n",
    "#        \"test_ratio\": data_module.test_ratio,\n",
    "#        \"min_factor_val_test\": data_module.min_factor_val_test,\n",
    "#        \"max_factor_val_test\": data_module.max_factor_val_test,\n",
    "#        \"noburst_to_burst_ratio\": data_module.noburst_to_burst_ratio,\n",
    "#        \"split_by_date\": data_module.split_by_date,\n",
    "#        \"filter_instruments\": data_module.filter_instruments,\n",
    "#    }\n",
    "#)\n",
    "\n",
    "#run_id = mlflow.active_run().info.run_id\n",
    "#print(f\"Run ID: {run_id}\")\n",
    "#print(f\"Link: https://dagshub.com/FlareSense/FlareSense/experiments/#/experiment/m_{run_id}\")\n",
    "\n",
    "trainer = pl.Trainer(max_epochs=50, log_every_n_steps=1)\n",
    "\n",
    "trainer.fit(\n",
    "    model,\n",
    "    train_dataloaders=data_module.train_dataloader(),\n",
    "    val_dataloaders=data_module.val_dataloader(),\n",
    ")\n",
    "\n",
    "trainer.test(model, dataloaders=data_module.test_dataloader())\n",
    "\n",
    "#mlflow.end_run()"
   ]
  }
 ],
 "metadata": {
  "kernelspec": {
   "display_name": "Python 3",
   "language": "python",
   "name": "python3"
  },
  "language_info": {
   "codemirror_mode": {
    "name": "ipython",
    "version": 3
   },
   "file_extension": ".py",
   "mimetype": "text/x-python",
   "name": "python",
   "nbconvert_exporter": "python",
   "pygments_lexer": "ipython3",
   "version": "3.11.6"
  }
 },
 "nbformat": 4,
 "nbformat_minor": 2
}
