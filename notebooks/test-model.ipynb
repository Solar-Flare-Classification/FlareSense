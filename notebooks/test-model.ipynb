{
 "cells": [
  {
   "cell_type": "code",
   "execution_count": 11,
   "metadata": {},
   "outputs": [],
   "source": [
    "import pytorch_lightning as pl\n",
    "import torch\n",
    "import torch.nn as nn\n",
    "import torchvision.models as models\n",
    "import torch.optim as optim\n",
    "from torchvision import transforms\n",
    "from sklearn.metrics import precision_recall_fscore_support, classification_report\n",
    "from torchmetrics.classification import BinaryPrecision, BinaryRecall"
   ]
  },
  {
   "cell_type": "code",
   "execution_count": 12,
   "metadata": {},
   "outputs": [
    {
     "data": {
      "text/plain": [
       "'1.0.0'"
      ]
     },
     "execution_count": 12,
     "metadata": {},
     "output_type": "execute_result"
    }
   ],
   "source": [
    "import torchmetrics\n",
    "torchmetrics.__version__"
   ]
  },
  {
   "cell_type": "code",
   "execution_count": 13,
   "metadata": {},
   "outputs": [
    {
     "name": "stdout",
     "output_type": "stream",
     "text": [
      "Current working directory: /Users/patrickschuermann/Documents/GitHub/FlareSense\n"
     ]
    }
   ],
   "source": [
    "import os\n",
    "\n",
    "# go to root directory if needed\n",
    "print(f\"Current working directory: {os.getcwd()}\")\n",
    "if os.getcwd().split(\"/\")[-1] == \"notebooks\":\n",
    "    os.chdir(\"..\")\n",
    "    print(f\"Changed working directory to: {os.getcwd()}\")"
   ]
  },
  {
   "cell_type": "code",
   "execution_count": 14,
   "metadata": {},
   "outputs": [],
   "source": [
    "import src.utils.data as data\n"
   ]
  },
  {
   "cell_type": "code",
   "execution_count": 20,
   "metadata": {},
   "outputs": [
    {
     "name": "stderr",
     "output_type": "stream",
     "text": [
      "/Users/patrickschuermann/.local/share/virtualenvs/Deep_Learning-EdiEON_k/lib/python3.9/site-packages/torchvision/models/_utils.py:208: UserWarning: The parameter 'pretrained' is deprecated since 0.13 and may be removed in the future, please use 'weights' instead.\n",
      "  warnings.warn(\n",
      "/Users/patrickschuermann/.local/share/virtualenvs/Deep_Learning-EdiEON_k/lib/python3.9/site-packages/torchvision/models/_utils.py:223: UserWarning: Arguments other than a weight enum or `None` for 'weights' are deprecated since 0.13 and may be removed in the future. The current behavior is equivalent to passing `weights=None`.\n",
      "  warnings.warn(msg)\n",
      "GPU available: True (mps), used: True\n",
      "TPU available: False, using: 0 TPU cores\n",
      "IPU available: False, using: 0 IPUs\n",
      "HPU available: False, using: 0 HPUs\n",
      "/Users/patrickschuermann/.local/share/virtualenvs/Deep_Learning-EdiEON_k/lib/python3.9/site-packages/pytorch_lightning/trainer/configuration_validator.py:74: You defined a `validation_step` but have no `val_dataloader`. Skipping val loop.\n",
      "\n",
      "  | Name      | Type            | Params\n",
      "----------------------------------------------\n",
      "0 | resnet50  | ResNet          | 23.5 M\n",
      "1 | precision | BinaryPrecision | 0     \n",
      "2 | recall    | BinaryRecall    | 0     \n",
      "----------------------------------------------\n",
      "23.5 M    Trainable params\n",
      "0         Non-trainable params\n",
      "23.5 M    Total params\n",
      "94.015    Total estimated model params size (MB)\n",
      "/Users/patrickschuermann/.local/share/virtualenvs/Deep_Learning-EdiEON_k/lib/python3.9/site-packages/pytorch_lightning/trainer/connectors/data_connector.py:441: The 'train_dataloader' does not have many workers which may be a bottleneck. Consider increasing the value of the `num_workers` argument` to `num_workers=7` in the `DataLoader` to improve performance.\n"
     ]
    },
    {
     "name": "stdout",
     "output_type": "stream",
     "text": [
      "Epoch 0:   0%|          | 0/1081 [00:00<?, ?it/s] "
     ]
    },
    {
     "name": "stderr",
     "output_type": "stream",
     "text": [
      "/Users/patrickschuermann/.local/share/virtualenvs/Deep_Learning-EdiEON_k/lib/python3.9/site-packages/pytorch_lightning/trainer/call.py:54: Detected KeyboardInterrupt, attempting graceful shutdown...\n",
      "/Users/patrickschuermann/.local/share/virtualenvs/Deep_Learning-EdiEON_k/lib/python3.9/site-packages/pytorch_lightning/trainer/connectors/data_connector.py:441: The 'test_dataloader' does not have many workers which may be a bottleneck. Consider increasing the value of the `num_workers` argument` to `num_workers=7` in the `DataLoader` to improve performance.\n"
     ]
    },
    {
     "name": "stdout",
     "output_type": "stream",
     "text": [
      "Testing DataLoader 0: 100%|██████████| 68/68 [00:23<00:00,  2.85it/s]\n",
      "────────────────────────────────────────────────────────────────────────────────────────────────────────────────────────\n",
      "       Test metric             DataLoader 0\n",
      "────────────────────────────────────────────────────────────────────────────────────────────────────────────────────────\n",
      "     test_loss_epoch        0.6744991540908813\n",
      "     test_precision        0.006410256493836641\n",
      "       test_recall          0.01785714365541935\n",
      "────────────────────────────────────────────────────────────────────────────────────────────────────────────────────────\n"
     ]
    },
    {
     "name": "stderr",
     "output_type": "stream",
     "text": [
      "/Users/patrickschuermann/.local/share/virtualenvs/Deep_Learning-EdiEON_k/lib/python3.9/site-packages/pytorch_lightning/trainer/connectors/data_connector.py:441: The 'val_dataloader' does not have many workers which may be a bottleneck. Consider increasing the value of the `num_workers` argument` to `num_workers=7` in the `DataLoader` to improve performance.\n"
     ]
    },
    {
     "name": "stdout",
     "output_type": "stream",
     "text": [
      "Epoch 0:   0%|          | 0/1081 [07:45<?, ?it/s] [00:57<00:00,  3.55it/s]\n",
      "\n",
      "Classification Report:\n",
      "               precision    recall  f1-score   support\n",
      "\n",
      "    no_burst       0.99      1.00      0.99     12792\n",
      "       burst       0.00      0.00      0.00       175\n",
      "\n",
      "    accuracy                           0.99     12967\n",
      "   macro avg       0.49      0.50      0.50     12967\n",
      "weighted avg       0.97      0.99      0.98     12967\n",
      "\n",
      "Validation DataLoader 0: 100%|██████████| 203/203 [00:59<00:00,  3.42it/s]\n"
     ]
    },
    {
     "name": "stderr",
     "output_type": "stream",
     "text": [
      "/Users/patrickschuermann/.local/share/virtualenvs/Deep_Learning-EdiEON_k/lib/python3.9/site-packages/sklearn/metrics/_classification.py:1344: UndefinedMetricWarning: Precision and F-score are ill-defined and being set to 0.0 in labels with no predicted samples. Use `zero_division` parameter to control this behavior.\n",
      "  _warn_prf(average, modifier, msg_start, len(result))\n",
      "/Users/patrickschuermann/.local/share/virtualenvs/Deep_Learning-EdiEON_k/lib/python3.9/site-packages/sklearn/metrics/_classification.py:1344: UndefinedMetricWarning: Precision and F-score are ill-defined and being set to 0.0 in labels with no predicted samples. Use `zero_division` parameter to control this behavior.\n",
      "  _warn_prf(average, modifier, msg_start, len(result))\n",
      "/Users/patrickschuermann/.local/share/virtualenvs/Deep_Learning-EdiEON_k/lib/python3.9/site-packages/sklearn/metrics/_classification.py:1344: UndefinedMetricWarning: Precision and F-score are ill-defined and being set to 0.0 in labels with no predicted samples. Use `zero_division` parameter to control this behavior.\n",
      "  _warn_prf(average, modifier, msg_start, len(result))\n"
     ]
    },
    {
     "data": {
      "text/plain": [
       "[{}]"
      ]
     },
     "execution_count": 20,
     "metadata": {},
     "output_type": "execute_result"
    }
   ],
   "source": [
    "# Definieren Sie das PyTorch Lightning-Modell\n",
    "\n",
    "class ResNet50BinaryClassifier(pl.LightningModule):\n",
    "    def __init__(self):\n",
    "        super().__init__()\n",
    "        # Laden Sie das vordefinierte ResNet-50-Modell ohne den letzten Klassifikations-Layer\n",
    "        self.resnet50 = models.resnet50(pretrained=False)\n",
    "        self.resnet50.conv1 = nn.Conv2d(1, 64, kernel_size=7, stride=2, padding=3, bias=False)\n",
    "        num_features = self.resnet50.fc.in_features\n",
    "        self.resnet50.fc = nn.Linear(num_features, 1) \n",
    "\n",
    "        # Initialisierung der Metriken\n",
    "        self.precision = BinaryPrecision(threshold=0.5)\n",
    "        self.recall = BinaryRecall(threshold=0.5)\n",
    "\n",
    "        # Initialisieren Sie Listen, um Labels und Vorhersagen während des Tests zu sammeln\n",
    "        self.test_labels = []\n",
    "        self.test_preds = []\n",
    "        self.val_outputs = []\n",
    "        self.val_labels = []\n",
    "        self.val_preds = []\n",
    "\n",
    "    def forward(self, x):\n",
    "        return self.resnet50(x)\n",
    "    \n",
    "    def __step(self, batch):\n",
    "        images, _, labels_tuple, _ = batch\n",
    "\n",
    "        binary_labels = [0 if label == 'no_burst' else 1 for label in labels_tuple]\n",
    "        binary_labels = torch.tensor(binary_labels).float().view(-1, 1)\n",
    "        binary_labels = binary_labels.to(images.device)\n",
    "\n",
    "        outputs = self(images)\n",
    "        return outputs, binary_labels\n",
    "\n",
    "\n",
    "    def training_step(self, batch, batch_idx):\n",
    "        outputs, binary_labels = self.__step(batch)\n",
    "        loss = nn.BCEWithLogitsLoss()(outputs, binary_labels)\n",
    "        \n",
    "        self.log('train_loss', loss)\n",
    "        return loss\n",
    "    \n",
    "    def test_step(self, batch, batch_idx):\n",
    "        outputs, binary_labels = self.__step(batch)\n",
    "        loss = nn.BCEWithLogitsLoss()(outputs, binary_labels)\n",
    "\n",
    "        # Labels und Vorhersagen für die spätere Verwendung speichern\n",
    "        # predictions = (outputs >= 0.5).int()\n",
    "        self.test_labels.append(binary_labels)\n",
    "        self.test_preds.append(outputs)\n",
    "\n",
    "        # Berechnen und protokollieren des Verlusts\n",
    "        self.log('test_loss', loss, on_step=True, on_epoch=True, prog_bar=True, logger=True)\n",
    "        return loss\n",
    "\n",
    "    def on_test_epoch_end(self):\n",
    "        # Konvertieren der gesammelten Daten in einzelne Tensoren\n",
    "        test_labels = torch.cat(self.test_labels, dim=0)\n",
    "        test_preds = torch.cat(self.test_preds, dim=0)\n",
    "\n",
    "        # Umwandeln in Listen für sklearn\n",
    "        # test_labels_list = test_labels.cpu().numpy().tolist()\n",
    "        # test_preds_list = test_preds.cpu().numpy().tolist()\n",
    "        \n",
    "        # Berechnen von Precision, Recall und F1-Score\n",
    "        # precision, recall, f1, _ = precision_recall_fscore_support(test_labels_list, test_preds_list, average='binary')\n",
    "        # precision, recall = precision_recall(test_preds, test_labels, threshold = 0.5, average = \"micro\")\n",
    "        \n",
    "        precision = self.precision(test_preds, test_labels)\n",
    "        recall = self.recall(test_preds, test_labels)\n",
    "\n",
    "        # Protokollieren der Metriken\n",
    "        self.log('test_precision', precision)\n",
    "        self.log('test_recall', recall)\n",
    "        # self.log('test_f1', torch.tensor(f1, dtype=torch.float32))\n",
    "        \n",
    "        # Bereinigen der Listen für die nächste Epoche\n",
    "        self.test_labels = []\n",
    "        self.test_preds = []\n",
    "\n",
    "    def validation_step(self, batch, batch_idx):\n",
    "        outputs, binary_labels = self.__step(batch)\n",
    "\n",
    "        # Labels und Vorhersagen für die spätere Verwendung speichern\n",
    "        predictions = (outputs >= 0.5).int()\n",
    "        self.val_labels.append(binary_labels.int())\n",
    "        self.val_preds.append(predictions)\n",
    "\n",
    "    def on_validation_epoch_end(self):\n",
    "        # Alle Validierungsdaten wurden gesammelt, und wir sind am Ende der Epoche.\n",
    "        val_labels = torch.cat(self.val_labels, dim=0)\n",
    "        val_preds = torch.cat(self.val_preds, dim=0)\n",
    "\n",
    "        # Umwandeln in Listen für sklearn\n",
    "        val_labels_list = val_labels.cpu().numpy().tolist()\n",
    "        val_preds_list = val_preds.cpu().numpy().tolist()\n",
    "\n",
    "        # Erstellen des Klassifikationsberichts\n",
    "        report = classification_report(val_labels_list, val_preds_list, target_names=['no_burst', 'burst'])\n",
    "        print(\"\\nClassification Report:\\n\", report)\n",
    "\n",
    "        # Vergessen Sie nicht, die Listen für die nächste Validierungsrunde zu leeren\n",
    "        self.val_labels = []\n",
    "        self.val_preds = []\n",
    "\n",
    "    def configure_optimizers(self):\n",
    "        optimizer = optim.Adam(self.parameters(), lr=0.001)\n",
    "        return optimizer\n",
    "\n",
    "# Erstellen Sie eine Instanz des Modells\n",
    "model = ResNet50BinaryClassifier()\n",
    "data_folder_path = \"data/raw/burst_images/\"\n",
    "\n",
    "data_module = data.ECallistoDataModule(\n",
    "    data_folder=data_folder_path,\n",
    "    transform=transforms.Compose(\n",
    "        [\n",
    "            transforms.ToPILImage(),\n",
    "            transforms.Resize((193, 240), antialias=True),\n",
    "            transforms.ToTensor(),\n",
    "        ]\n",
    "    ),\n",
    "    batch_size=64,\n",
    "    num_workers=0,\n",
    "    val_ratio=0.15,\n",
    "    test_ratio=0.05,\n",
    ")\n",
    "data_module.setup()\n",
    "\n",
    "# Erstellen Sie einen Trainer für das Training\n",
    "trainer = pl.Trainer(max_epochs=1)\n",
    "\n",
    "# Laden Sie den DataLoader für die Trainingsdaten\n",
    "train_loader = data_module.train_dataloader()\n",
    "\n",
    "# Starten Sie das Training\n",
    "trainer.fit(model, train_loader)\n",
    "\n",
    "test_loader = data_module.test_dataloader()\n",
    "trainer.test(model, test_loader)\n",
    "\n",
    "val_loader = data_module.val_dataloader()\n",
    "trainer.validate(model, val_loader)\n"
   ]
  },
  {
   "cell_type": "code",
   "execution_count": null,
   "metadata": {},
   "outputs": [],
   "source": [
    "data_module.test_dataloader()."
   ]
  },
  {
   "cell_type": "code",
   "execution_count": null,
   "metadata": {},
   "outputs": [],
   "source": [
    "import torch\n",
    "import torch.nn as nn\n",
    "import torch.nn.functional as F\n",
    "from torchvision.models import resnet50\n",
    "from torchmetrics.classification import Precision, Recall, F1\n",
    "\n",
    "class AutoEncoder(nn.Module):\n",
    "    def __init__(self, model_params):\n",
    "        super(AutoEncoder, self).__init__()\n",
    "        self.encoder = nn.Sequential()\n",
    "        k = model_params[\"encoder_kernel_size\"]\n",
    "        for _ in range(model_params[\"num_hidden_layers\"]):\n",
    "            self.encoder.add_module('conv', nn.Conv2d(in_channels=model_params[\"input_shape\"][0], out_channels=model_params[\"encoder_filters\"], kernel_size=k, padding='same'))\n",
    "            self.encoder.add_module('bn', nn.BatchNorm2d(model_params[\"encoder_filters\"]))\n",
    "            self.encoder.add_module('relu', nn.ReLU(inplace=True))\n",
    "            self.encoder.add_module('pool', nn.MaxPool2d(kernel_size=2, stride=2, padding='same'))\n",
    "        self.encoded = nn.Sequential(\n",
    "            nn.Conv2d(in_channels=model_params[\"encoder_filters\"], out_channels=32, kernel_size=3, padding='same'),\n",
    "            nn.BatchNorm2d(32),\n",
    "            nn.ReLU(inplace=True)\n",
    "        )\n",
    "\n",
    "    def forward(self, x):\n",
    "        x = self.encoder(x)\n",
    "        x = self.encoded(x)\n",
    "        return x\n",
    "\n",
    "class Classifier(nn.Module):\n",
    "    def __init__(self, model_params):\n",
    "        super(Classifier, self).__init__()\n",
    "        self.flatten = nn.Flatten()\n",
    "        self.layers = nn.Sequential()\n",
    "        for _ in range(model_params[\"num_dense_layers\"]):\n",
    "            self.layers.add_module('dense', nn.Linear(in_features=np.product(model_params[\"input_shape\"]), out_features=model_params[\"neurons_dense_layer\"]))\n",
    "            self.layers.add_module('bn', nn.BatchNorm1d(model_params[\"neurons_dense_layer\"]))\n",
    "            self.layers.add_module('relu', nn.ReLU(inplace=True))\n",
    "            self.layers.add_module('drop', nn.Dropout(model_params[\"dropout\"]))\n",
    "        self.output = nn.Linear(in_features=model_params[\"neurons_dense_layer\"], out_features=1)\n",
    "\n",
    "    def forward(self, x):\n",
    "        x = self.flatten(x)\n",
    "        x = self.layers(x)\n",
    "        x = self.output(x)\n",
    "        return torch.sigmoid(x)\n",
    "\n",
    "class CombinedModel(nn.Module):\n",
    "    def __init__(self, model_params):\n",
    "        super(CombinedModel, self).__init__()\n",
    "        self.autoencoder = AutoEncoder(model_params)\n",
    "        self.classifier = Classifier(model_params)\n",
    "\n",
    "    def forward(self, x):\n",
    "        x = self.autoencoder(x)\n",
    "        x = self.classifier(x)\n",
    "        return x"
   ]
  }
 ],
 "metadata": {
  "kernelspec": {
   "display_name": "Deep_Learning-EdiEON_k",
   "language": "python",
   "name": "python3"
  },
  "language_info": {
   "codemirror_mode": {
    "name": "ipython",
    "version": 3
   },
   "file_extension": ".py",
   "mimetype": "text/x-python",
   "name": "python",
   "nbconvert_exporter": "python",
   "pygments_lexer": "ipython3",
   "version": "3.9.12"
  },
  "orig_nbformat": 4,
  "vscode": {
   "interpreter": {
    "hash": "6e05621076ca54fd44c7c0ce1b6a0f390ce58f91d2fe1d180f4996db114adea7"
   }
  }
 },
 "nbformat": 4,
 "nbformat_minor": 2
}
