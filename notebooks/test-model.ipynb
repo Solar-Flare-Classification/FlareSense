{
 "cells": [
  {
   "cell_type": "code",
   "execution_count": 7,
   "metadata": {},
   "outputs": [],
   "source": [
    "import pytorch_lightning as pl\n",
    "import torch\n",
    "import torch.nn as nn\n",
    "import torchvision.models as models\n",
    "import torch.optim as optim\n",
    "from torchvision import transforms\n",
    "from sklearn.metrics import precision_recall_fscore_support, classification_report"
   ]
  },
  {
   "cell_type": "code",
   "execution_count": 2,
   "metadata": {},
   "outputs": [
    {
     "name": "stdout",
     "output_type": "stream",
     "text": [
      "Current working directory: /Users/patrickschuermann/Documents/GitHub/FlareSense/notebooks\n",
      "Changed working directory to: /Users/patrickschuermann/Documents/GitHub/FlareSense\n"
     ]
    }
   ],
   "source": [
    "import os\n",
    "\n",
    "# go to root directory if needed\n",
    "print(f\"Current working directory: {os.getcwd()}\")\n",
    "if os.getcwd().split(\"/\")[-1] == \"notebooks\":\n",
    "    os.chdir(\"..\")\n",
    "    print(f\"Changed working directory to: {os.getcwd()}\")"
   ]
  },
  {
   "cell_type": "code",
   "execution_count": 3,
   "metadata": {},
   "outputs": [],
   "source": [
    "import src.utils.data as data\n"
   ]
  },
  {
   "cell_type": "code",
   "execution_count": 12,
   "metadata": {},
   "outputs": [
    {
     "name": "stderr",
     "output_type": "stream",
     "text": [
      "GPU available: True (mps), used: True\n",
      "TPU available: False, using: 0 TPU cores\n",
      "IPU available: False, using: 0 IPUs\n",
      "HPU available: False, using: 0 HPUs\n",
      "\n",
      "  | Name     | Type   | Params\n",
      "------------------------------------\n",
      "0 | resnet50 | ResNet | 23.5 M\n",
      "------------------------------------\n",
      "23.5 M    Trainable params\n",
      "0         Non-trainable params\n",
      "23.5 M    Total params\n",
      "94.015    Total estimated model params size (MB)\n",
      "/Users/patrickschuermann/.local/share/virtualenvs/Deep_Learning-EdiEON_k/lib/python3.9/site-packages/pytorch_lightning/trainer/connectors/data_connector.py:441: The 'train_dataloader' does not have many workers which may be a bottleneck. Consider increasing the value of the `num_workers` argument` to `num_workers=7` in the `DataLoader` to improve performance.\n"
     ]
    },
    {
     "name": "stdout",
     "output_type": "stream",
     "text": [
      "Epoch 0: 100%|██████████| 946/946 [29:17<00:00,  0.54it/s, v_num=24]"
     ]
    },
    {
     "name": "stderr",
     "output_type": "stream",
     "text": [
      "`Trainer.fit` stopped: `max_epochs=1` reached.\n"
     ]
    },
    {
     "name": "stdout",
     "output_type": "stream",
     "text": [
      "Epoch 0: 100%|██████████| 946/946 [29:17<00:00,  0.54it/s, v_num=24]\n"
     ]
    },
    {
     "ename": "NotImplementedError",
     "evalue": "Support for `test_epoch_end` has been removed in v2.0.0. `ResNet50BinaryClassifier` implements this method. You can use the `on_test_epoch_end` hook instead. To access outputs, save them in-memory as instance attributes. You can find migration examples in https://github.com/Lightning-AI/lightning/pull/16520.",
     "output_type": "error",
     "traceback": [
      "\u001b[0;31m---------------------------------------------------------------------------\u001b[0m",
      "\u001b[0;31mNotImplementedError\u001b[0m                       Traceback (most recent call last)",
      "Cell \u001b[0;32mIn[12], line 145\u001b[0m\n\u001b[1;32m    142\u001b[0m trainer\u001b[39m.\u001b[39mfit(model, train_loader)\n\u001b[1;32m    144\u001b[0m test_loader \u001b[39m=\u001b[39m data_module\u001b[39m.\u001b[39mtest_dataloader()\n\u001b[0;32m--> 145\u001b[0m trainer\u001b[39m.\u001b[39;49mtest(model, test_loader)\n\u001b[1;32m    147\u001b[0m val_loader \u001b[39m=\u001b[39m data_module\u001b[39m.\u001b[39mval_dataloader()\n\u001b[1;32m    148\u001b[0m trainer\u001b[39m.\u001b[39mvalidate(model, val_loader)\n",
      "File \u001b[0;32m~/.local/share/virtualenvs/Deep_Learning-EdiEON_k/lib/python3.9/site-packages/pytorch_lightning/trainer/trainer.py:755\u001b[0m, in \u001b[0;36mTrainer.test\u001b[0;34m(self, model, dataloaders, ckpt_path, verbose, datamodule)\u001b[0m\n\u001b[1;32m    753\u001b[0m \u001b[39mself\u001b[39m\u001b[39m.\u001b[39mstate\u001b[39m.\u001b[39mstatus \u001b[39m=\u001b[39m TrainerStatus\u001b[39m.\u001b[39mRUNNING\n\u001b[1;32m    754\u001b[0m \u001b[39mself\u001b[39m\u001b[39m.\u001b[39mtesting \u001b[39m=\u001b[39m \u001b[39mTrue\u001b[39;00m\n\u001b[0;32m--> 755\u001b[0m \u001b[39mreturn\u001b[39;00m call\u001b[39m.\u001b[39;49m_call_and_handle_interrupt(\n\u001b[1;32m    756\u001b[0m     \u001b[39mself\u001b[39;49m, \u001b[39mself\u001b[39;49m\u001b[39m.\u001b[39;49m_test_impl, model, dataloaders, ckpt_path, verbose, datamodule\n\u001b[1;32m    757\u001b[0m )\n",
      "File \u001b[0;32m~/.local/share/virtualenvs/Deep_Learning-EdiEON_k/lib/python3.9/site-packages/pytorch_lightning/trainer/call.py:44\u001b[0m, in \u001b[0;36m_call_and_handle_interrupt\u001b[0;34m(trainer, trainer_fn, *args, **kwargs)\u001b[0m\n\u001b[1;32m     42\u001b[0m     \u001b[39mif\u001b[39;00m trainer\u001b[39m.\u001b[39mstrategy\u001b[39m.\u001b[39mlauncher \u001b[39mis\u001b[39;00m \u001b[39mnot\u001b[39;00m \u001b[39mNone\u001b[39;00m:\n\u001b[1;32m     43\u001b[0m         \u001b[39mreturn\u001b[39;00m trainer\u001b[39m.\u001b[39mstrategy\u001b[39m.\u001b[39mlauncher\u001b[39m.\u001b[39mlaunch(trainer_fn, \u001b[39m*\u001b[39margs, trainer\u001b[39m=\u001b[39mtrainer, \u001b[39m*\u001b[39m\u001b[39m*\u001b[39mkwargs)\n\u001b[0;32m---> 44\u001b[0m     \u001b[39mreturn\u001b[39;00m trainer_fn(\u001b[39m*\u001b[39;49margs, \u001b[39m*\u001b[39;49m\u001b[39m*\u001b[39;49mkwargs)\n\u001b[1;32m     46\u001b[0m \u001b[39mexcept\u001b[39;00m _TunerExitException:\n\u001b[1;32m     47\u001b[0m     _call_teardown_hook(trainer)\n",
      "File \u001b[0;32m~/.local/share/virtualenvs/Deep_Learning-EdiEON_k/lib/python3.9/site-packages/pytorch_lightning/trainer/trainer.py:795\u001b[0m, in \u001b[0;36mTrainer._test_impl\u001b[0;34m(self, model, dataloaders, ckpt_path, verbose, datamodule)\u001b[0m\n\u001b[1;32m    791\u001b[0m \u001b[39massert\u001b[39;00m \u001b[39mself\u001b[39m\u001b[39m.\u001b[39mstate\u001b[39m.\u001b[39mfn \u001b[39mis\u001b[39;00m \u001b[39mnot\u001b[39;00m \u001b[39mNone\u001b[39;00m\n\u001b[1;32m    792\u001b[0m ckpt_path \u001b[39m=\u001b[39m \u001b[39mself\u001b[39m\u001b[39m.\u001b[39m_checkpoint_connector\u001b[39m.\u001b[39m_select_ckpt_path(\n\u001b[1;32m    793\u001b[0m     \u001b[39mself\u001b[39m\u001b[39m.\u001b[39mstate\u001b[39m.\u001b[39mfn, ckpt_path, model_provided\u001b[39m=\u001b[39mmodel_provided, model_connected\u001b[39m=\u001b[39m\u001b[39mself\u001b[39m\u001b[39m.\u001b[39mlightning_module \u001b[39mis\u001b[39;00m \u001b[39mnot\u001b[39;00m \u001b[39mNone\u001b[39;00m\n\u001b[1;32m    794\u001b[0m )\n\u001b[0;32m--> 795\u001b[0m results \u001b[39m=\u001b[39m \u001b[39mself\u001b[39;49m\u001b[39m.\u001b[39;49m_run(model, ckpt_path\u001b[39m=\u001b[39;49mckpt_path)\n\u001b[1;32m    796\u001b[0m \u001b[39m# remove the tensors from the test results\u001b[39;00m\n\u001b[1;32m    797\u001b[0m results \u001b[39m=\u001b[39m convert_tensors_to_scalars(results)\n",
      "File \u001b[0;32m~/.local/share/virtualenvs/Deep_Learning-EdiEON_k/lib/python3.9/site-packages/pytorch_lightning/trainer/trainer.py:938\u001b[0m, in \u001b[0;36mTrainer._run\u001b[0;34m(self, model, ckpt_path)\u001b[0m\n\u001b[1;32m    935\u001b[0m \u001b[39mself\u001b[39m\u001b[39m.\u001b[39m_callback_connector\u001b[39m.\u001b[39m_attach_model_callbacks()\n\u001b[1;32m    936\u001b[0m \u001b[39mself\u001b[39m\u001b[39m.\u001b[39m_callback_connector\u001b[39m.\u001b[39m_attach_model_logging_functions()\n\u001b[0;32m--> 938\u001b[0m _verify_loop_configurations(\u001b[39mself\u001b[39;49m)\n\u001b[1;32m    940\u001b[0m \u001b[39m# hook\u001b[39;00m\n\u001b[1;32m    941\u001b[0m log\u001b[39m.\u001b[39mdebug(\u001b[39mf\u001b[39m\u001b[39m\"\u001b[39m\u001b[39m{\u001b[39;00m\u001b[39mself\u001b[39m\u001b[39m.\u001b[39m\u001b[39m__class__\u001b[39m\u001b[39m.\u001b[39m\u001b[39m__name__\u001b[39m\u001b[39m}\u001b[39;00m\u001b[39m: preparing data\u001b[39m\u001b[39m\"\u001b[39m)\n",
      "File \u001b[0;32m~/.local/share/virtualenvs/Deep_Learning-EdiEON_k/lib/python3.9/site-packages/pytorch_lightning/trainer/configuration_validator.py:42\u001b[0m, in \u001b[0;36m_verify_loop_configurations\u001b[0;34m(trainer)\u001b[0m\n\u001b[1;32m     40\u001b[0m     __verify_eval_loop_configuration(model, \u001b[39m\"\u001b[39m\u001b[39mval\u001b[39m\u001b[39m\"\u001b[39m)\n\u001b[1;32m     41\u001b[0m \u001b[39melif\u001b[39;00m trainer\u001b[39m.\u001b[39mstate\u001b[39m.\u001b[39mfn \u001b[39m==\u001b[39m TrainerFn\u001b[39m.\u001b[39mTESTING:\n\u001b[0;32m---> 42\u001b[0m     __verify_eval_loop_configuration(model, \u001b[39m\"\u001b[39;49m\u001b[39mtest\u001b[39;49m\u001b[39m\"\u001b[39;49m)\n\u001b[1;32m     43\u001b[0m \u001b[39melif\u001b[39;00m trainer\u001b[39m.\u001b[39mstate\u001b[39m.\u001b[39mfn \u001b[39m==\u001b[39m TrainerFn\u001b[39m.\u001b[39mPREDICTING:\n\u001b[1;32m     44\u001b[0m     __verify_eval_loop_configuration(model, \u001b[39m\"\u001b[39m\u001b[39mpredict\u001b[39m\u001b[39m\"\u001b[39m)\n",
      "File \u001b[0;32m~/.local/share/virtualenvs/Deep_Learning-EdiEON_k/lib/python3.9/site-packages/pytorch_lightning/trainer/configuration_validator.py:115\u001b[0m, in \u001b[0;36m__verify_eval_loop_configuration\u001b[0;34m(model, stage)\u001b[0m\n\u001b[1;32m    113\u001b[0m epoch_end_name \u001b[39m=\u001b[39m \u001b[39m\"\u001b[39m\u001b[39mvalidation_epoch_end\u001b[39m\u001b[39m\"\u001b[39m \u001b[39mif\u001b[39;00m stage \u001b[39m==\u001b[39m \u001b[39m\"\u001b[39m\u001b[39mval\u001b[39m\u001b[39m\"\u001b[39m \u001b[39melse\u001b[39;00m \u001b[39m\"\u001b[39m\u001b[39mtest_epoch_end\u001b[39m\u001b[39m\"\u001b[39m\n\u001b[1;32m    114\u001b[0m \u001b[39mif\u001b[39;00m \u001b[39mcallable\u001b[39m(\u001b[39mgetattr\u001b[39m(model, epoch_end_name, \u001b[39mNone\u001b[39;00m)):\n\u001b[0;32m--> 115\u001b[0m     \u001b[39mraise\u001b[39;00m \u001b[39mNotImplementedError\u001b[39;00m(\n\u001b[1;32m    116\u001b[0m         \u001b[39mf\u001b[39m\u001b[39m\"\u001b[39m\u001b[39mSupport for `\u001b[39m\u001b[39m{\u001b[39;00mepoch_end_name\u001b[39m}\u001b[39;00m\u001b[39m` has been removed in v2.0.0. `\u001b[39m\u001b[39m{\u001b[39;00m\u001b[39mtype\u001b[39m(model)\u001b[39m.\u001b[39m\u001b[39m__name__\u001b[39m\u001b[39m}\u001b[39;00m\u001b[39m` implements this\u001b[39m\u001b[39m\"\u001b[39m\n\u001b[1;32m    117\u001b[0m         \u001b[39mf\u001b[39m\u001b[39m\"\u001b[39m\u001b[39m method. You can use the `on_\u001b[39m\u001b[39m{\u001b[39;00mepoch_end_name\u001b[39m}\u001b[39;00m\u001b[39m` hook instead. To access outputs, save them in-memory\u001b[39m\u001b[39m\"\u001b[39m\n\u001b[1;32m    118\u001b[0m         \u001b[39m\"\u001b[39m\u001b[39m as instance attributes.\u001b[39m\u001b[39m\"\u001b[39m\n\u001b[1;32m    119\u001b[0m         \u001b[39m\"\u001b[39m\u001b[39m You can find migration examples in https://github.com/Lightning-AI/lightning/pull/16520.\u001b[39m\u001b[39m\"\u001b[39m\n\u001b[1;32m    120\u001b[0m     )\n",
      "\u001b[0;31mNotImplementedError\u001b[0m: Support for `test_epoch_end` has been removed in v2.0.0. `ResNet50BinaryClassifier` implements this method. You can use the `on_test_epoch_end` hook instead. To access outputs, save them in-memory as instance attributes. You can find migration examples in https://github.com/Lightning-AI/lightning/pull/16520."
     ]
    }
   ],
   "source": [
    "# Definieren Sie das PyTorch Lightning-Modell\n",
    "\n",
    "class ResNet50BinaryClassifier(pl.LightningModule):\n",
    "    def __init__(self):\n",
    "        super().__init__()\n",
    "        # Laden Sie das vordefinierte ResNet-50-Modell ohne den letzten Klassifikations-Layer\n",
    "        self.resnet50 = models.resnet50(pretrained=False)\n",
    "        self.resnet50.conv1 = nn.Conv2d(1, 64, kernel_size=7, stride=2, padding=3, bias=False)\n",
    "        num_features = self.resnet50.fc.in_features\n",
    "        self.resnet50.fc = nn.Linear(num_features, 1) \n",
    "\n",
    "        # Initialisieren Sie Listen, um Labels und Vorhersagen während des Tests zu sammeln\n",
    "        self.test_labels = []\n",
    "        self.test_preds = []\n",
    "        self.val_outputs = []\n",
    "        self.val_labels = []\n",
    "\n",
    "    def forward(self, x):\n",
    "        return self.resnet50(x)\n",
    "\n",
    "    def training_step(self, batch, batch_idx):\n",
    "        images, _, labels_tuple, _ = batch\n",
    "\n",
    "        binary_labels = [0 if label == 'no_burst' else 1 for label in labels_tuple]\n",
    "\n",
    "        binary_labels = torch.tensor(binary_labels).float().view(-1, 1)\n",
    "        binary_labels = binary_labels.to(images.device)\n",
    "\n",
    "        outputs = self(images)\n",
    "\n",
    "        loss = nn.BCEWithLogitsLoss()(outputs, binary_labels)\n",
    "        self.log('train_loss', loss)\n",
    "        return loss\n",
    "    \n",
    "    def test_step(self, batch, batch_idx):\n",
    "        images, _, labels_tuple, _ = batch\n",
    "\n",
    "        binary_labels = [0 if label == 'no_burst' else 1 for label in labels_tuple]\n",
    "        binary_labels = torch.tensor(binary_labels).float().view(-1, 1).to(images.device)\n",
    "\n",
    "        outputs = self(images)\n",
    "\n",
    "        loss = nn.BCEWithLogitsLoss()(outputs, binary_labels)\n",
    "\n",
    "        probabilities = torch.sigmoid(outputs)\n",
    "\n",
    "        predictions = (probabilities >= 0.5).int()\n",
    "\n",
    "        # Labels und Vorhersagen für die spätere Verwendung speichern\n",
    "        self.test_labels.append(binary_labels.int())\n",
    "        self.test_preds.append(predictions)\n",
    "\n",
    "        # Berechnen und protokollieren des Verlusts\n",
    "        self.log('test_loss', loss, on_step=True, on_epoch=True, prog_bar=True, logger=True)\n",
    "\n",
    "        return loss\n",
    "\n",
    "    def on_test_epoch_end(self, outputs):\n",
    "        # Konvertieren der gesammelten Daten in einzelne Tensoren\n",
    "        test_labels = torch.cat(self.test_labels, dim=0)\n",
    "        test_preds = torch.cat(self.test_preds, dim=0)\n",
    "\n",
    "        # Umwandeln in Listen für sklearn\n",
    "        test_labels_list = test_labels.cpu().numpy().tolist()\n",
    "        test_preds_list = test_preds.cpu().numpy().tolist()\n",
    "\n",
    "        # Berechnen von Precision, Recall und F1-Score\n",
    "        precision, recall, f1, _ = precision_recall_fscore_support(test_labels_list, test_preds_list, average='binary')\n",
    "\n",
    "        # Protokollieren der Metriken\n",
    "        self.log('test_precision', precision)\n",
    "        self.log('test_recall', recall)\n",
    "        self.log('test_f1', f1)\n",
    "\n",
    "        # Bereinigen der Listen für die nächste Epoche\n",
    "        self.test_labels = []\n",
    "        self.test_preds = []\n",
    "\n",
    "    def validation_step(self, batch, batch_idx):\n",
    "        images, _, labels_tuple, _ = batch\n",
    "\n",
    "        binary_labels = [0 if label == 'no_burst' else 1 for label in labels_tuple]\n",
    "        binary_labels = torch.tensor(binary_labels).float().view(-1, 1).to(images.device)\n",
    "\n",
    "        outputs = self(images)\n",
    "        probabilities = torch.sigmoid(outputs)\n",
    "        predictions = (probabilities >= 0.5).int()\n",
    "\n",
    "        # Labels und Vorhersagen für die spätere Verwendung speichern\n",
    "        self.val_labels.append(binary_labels.int())\n",
    "        self.val_preds.append(predictions)\n",
    "\n",
    "    def on_validation_epoch_end(self):\n",
    "        # Alle Validierungsdaten wurden gesammelt, und wir sind am Ende der Epoche.\n",
    "        val_labels = torch.cat(self.val_labels, dim=0)\n",
    "        val_preds = torch.cat(self.val_preds, dim=0)\n",
    "\n",
    "        # Umwandeln in Listen für sklearn\n",
    "        val_labels_list = val_labels.cpu().numpy().tolist()\n",
    "        val_preds_list = val_preds.cpu().numpy().tolist()\n",
    "\n",
    "        # Erstellen des Klassifikationsberichts\n",
    "        report = classification_report(val_labels_list, val_preds_list, target_names=['no_burst', 'burst'])\n",
    "        print(\"\\nClassification Report:\\n\", report)\n",
    "\n",
    "        # Vergessen Sie nicht, die Listen für die nächste Validierungsrunde zu leeren\n",
    "        self.val_labels = []\n",
    "        self.val_preds = []\n",
    "\n",
    "    def configure_optimizers(self):\n",
    "        optimizer = optim.Adam(self.parameters(), lr=0.001)\n",
    "        return optimizer\n",
    "\n",
    "# Erstellen Sie eine Instanz des Modells\n",
    "model = ResNet50BinaryClassifier()\n",
    "\n",
    "data_folder_path = \"data/raw/burst_images/\"\n",
    "\n",
    "data_module = data.ECallistoDataModule(\n",
    "    data_folder=data_folder_path,\n",
    "    transform=transforms.Compose(\n",
    "        [\n",
    "            transforms.ToPILImage(),\n",
    "            transforms.Resize((193, 240), antialias=True),\n",
    "            transforms.ToTensor(),\n",
    "        ]\n",
    "    ),\n",
    "    batch_size=64,\n",
    "    num_workers=0,\n",
    "    val_ratio=0.15,\n",
    "    test_ratio=0.15,\n",
    ")\n",
    "data_module.setup()\n",
    "\n",
    "# Erstellen Sie einen Trainer für das Training\n",
    "trainer = pl.Trainer(max_epochs=1)\n",
    "\n",
    "# Laden Sie den DataLoader für die Trainingsdaten\n",
    "train_loader = data_module.train_dataloader()\n",
    "\n",
    "# Starten Sie das Training\n",
    "trainer.fit(model, train_loader)\n",
    "\n",
    "test_loader = data_module.test_dataloader()\n",
    "trainer.test(model, test_loader)\n",
    "\n",
    "val_loader = data_module.val_dataloader()\n",
    "trainer.validate(model, val_loader)\n"
   ]
  },
  {
   "cell_type": "code",
   "execution_count": null,
   "metadata": {},
   "outputs": [],
   "source": []
  }
 ],
 "metadata": {
  "kernelspec": {
   "display_name": "Deep_Learning-EdiEON_k",
   "language": "python",
   "name": "python3"
  },
  "language_info": {
   "codemirror_mode": {
    "name": "ipython",
    "version": 3
   },
   "file_extension": ".py",
   "mimetype": "text/x-python",
   "name": "python",
   "nbconvert_exporter": "python",
   "pygments_lexer": "ipython3",
   "version": "3.9.12"
  },
  "orig_nbformat": 4,
  "vscode": {
   "interpreter": {
    "hash": "6e05621076ca54fd44c7c0ce1b6a0f390ce58f91d2fe1d180f4996db114adea7"
   }
  }
 },
 "nbformat": 4,
 "nbformat_minor": 2
}
